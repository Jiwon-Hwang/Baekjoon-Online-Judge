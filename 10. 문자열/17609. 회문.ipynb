{
 "cells": [
  {
   "cell_type": "code",
   "execution_count": 21,
   "id": "202743e0",
   "metadata": {},
   "outputs": [
    {
     "name": "stdout",
     "output_type": "stream",
     "text": [
      "7\n",
      "abba\n",
      "0\n",
      "summuus\n",
      "1\n",
      "xabba\n",
      "1\n",
      "xabbay\n",
      "2\n",
      "comcom\n",
      "2\n",
      "comwwmoc\n",
      "0\n",
      "comwwtmoc\n",
      "1\n"
     ]
    }
   ],
   "source": [
    "n = int(input())\n",
    "\n",
    "def isPalindrome(string):\n",
    "    if string == string[::-1]:\n",
    "        return True\n",
    "    else:\n",
    "        return False\n",
    "\n",
    "def isPseudo(string):\n",
    "    for i in range(len(string)//2):\n",
    "        if string[i] != string[len(string)-i-1]:\n",
    "            str1, str2 = string.copy(), string.copy() # **깊은복사**\n",
    "            str1.pop(i)\n",
    "            str2.pop(len(string)-i-1)\n",
    "            if isPalindrome(str1) or isPalindrome(str2):\n",
    "                return True\n",
    "            else:\n",
    "                return False\n",
    "\n",
    "for _ in range(n):\n",
    "    string = list(input())\n",
    "    if isPalindrome(string):\n",
    "        print(0)\n",
    "    elif isPseudo(string):\n",
    "        print(1)\n",
    "    else: \n",
    "        print(2)"
   ]
  },
  {
   "cell_type": "markdown",
   "id": "e316d4e7",
   "metadata": {},
   "source": [
    "<hr>"
   ]
  },
  {
   "cell_type": "code",
   "execution_count": 10,
   "id": "66fe23ee",
   "metadata": {},
   "outputs": [
    {
     "name": "stdout",
     "output_type": "stream",
     "text": [
      "string 6\n",
      "strin 5\n",
      "stri 4\n",
      "str 3\n",
      "st 2\n",
      "s 1\n"
     ]
    }
   ],
   "source": [
    "string = list('string')\n",
    "for i in range(len(string)): # range 내의 len은 초기값으로 유지\n",
    "    print(''.join(string), len(string))\n",
    "    string.pop()"
   ]
  },
  {
   "cell_type": "code",
   "execution_count": 11,
   "id": "2b5ebc01",
   "metadata": {},
   "outputs": [
    {
     "ename": "TypeError",
     "evalue": "cannot unpack non-iterable int object",
     "output_type": "error",
     "traceback": [
      "\u001b[1;31m---------------------------------------------------------------------------\u001b[0m",
      "\u001b[1;31mTypeError\u001b[0m                                 Traceback (most recent call last)",
      "\u001b[1;32m<ipython-input-11-38247abfa4cb>\u001b[0m in \u001b[0;36m<module>\u001b[1;34m\u001b[0m\n\u001b[1;32m----> 1\u001b[1;33m \u001b[0mtmp1\u001b[0m\u001b[1;33m,\u001b[0m \u001b[0mtmp2\u001b[0m \u001b[1;33m=\u001b[0m \u001b[1;36m0\u001b[0m\u001b[1;33m\u001b[0m\u001b[1;33m\u001b[0m\u001b[0m\n\u001b[0m\u001b[0;32m      2\u001b[0m \u001b[0mprint\u001b[0m\u001b[1;33m(\u001b[0m\u001b[0mtmp1\u001b[0m\u001b[1;33m,\u001b[0m \u001b[0mtmp2\u001b[0m\u001b[1;33m)\u001b[0m\u001b[1;33m\u001b[0m\u001b[1;33m\u001b[0m\u001b[0m\n",
      "\u001b[1;31mTypeError\u001b[0m: cannot unpack non-iterable int object"
     ]
    }
   ],
   "source": [
    "tmp1, tmp2 = 0\n",
    "print(tmp1, tmp2)"
   ]
  },
  {
   "cell_type": "code",
   "execution_count": 13,
   "id": "3a46cf6a",
   "metadata": {},
   "outputs": [
    {
     "name": "stdout",
     "output_type": "stream",
     "text": [
      "True\n",
      "False\n"
     ]
    }
   ],
   "source": [
    "print(True or False)\n",
    "print(False or False)"
   ]
  }
 ],
 "metadata": {
  "kernelspec": {
   "display_name": "Python 3",
   "language": "python",
   "name": "python3"
  },
  "language_info": {
   "codemirror_mode": {
    "name": "ipython",
    "version": 3
   },
   "file_extension": ".py",
   "mimetype": "text/x-python",
   "name": "python",
   "nbconvert_exporter": "python",
   "pygments_lexer": "ipython3",
   "version": "3.8.8"
  }
 },
 "nbformat": 4,
 "nbformat_minor": 5
}
