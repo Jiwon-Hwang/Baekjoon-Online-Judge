{
 "cells": [
  {
   "cell_type": "code",
   "execution_count": null,
   "id": "25500129",
   "metadata": {},
   "outputs": [],
   "source": [
    "# 정규표현식(re) & 커스텀 정렬\n",
    "\n",
    "import re\n",
    "from functools import cmp_to_key\n",
    "\n",
    "t = int(input())\n",
    "# 나뉘어진 데이터가 저장되는 위치\n",
    "data = []\n",
    "\n",
    "for _ in range(t):\n",
    "    \n",
    "    d = input()\n",
    "\n",
    "    # 데이터에서 문자열과 숫자를 분리해서 저장\n",
    "    temp = re.findall(\"[a-zA-Z]|\\d+\", d)\n",
    "\n",
    "    # 데이터에 원래 데이터와 나뉘어진 값 각각 저장\n",
    "    data.append([d, temp])\n",
    "\n",
    "# 알파벳 유니코드로 하면 순서가 제대로 안나오므로 인덱스 가져오기 위한 데이터 생성\n",
    "alphabet = \"AaBbCcDdEeFfGgHhIiJjKkLlMmNnOoPpQqRrSsTtUuVvWwXxYyZz\"\n",
    "\n",
    "# 정렬 사용자 함수\n",
    "def comp(first,second):\n",
    "\n",
    "    for i in range(min(len(first[1]), len(second[1]))):\n",
    "        \n",
    "        # 숫자 > 문자열이므로 first가 왼쪽에 가야한다.\n",
    "        if first[1][i].isdigit() and second[1][i].isalpha():\n",
    "            return -1\n",
    "        \n",
    "        # 문자열 < 숫자이므로 second가 왼쪽으로 가야한다.\n",
    "        elif first[1][i].isalpha() and second[1][i].isdigit():\n",
    "            return 1\n",
    "\n",
    "        # 숫자 - 숫자 비교는 작은 숫자가 왼쪽이나 같은 경우 0의 갯수가 작은것이 왼쪽으로 간다.\n",
    "        elif first[1][i].isdigit() and second[1][i].isdigit():\n",
    "            \n",
    "            # 숫자 비교\n",
    "            if int(first[1][i]) == int(second[1][i]):\n",
    "\n",
    "                # 같으면 패스\n",
    "                if len(first[1][i]) == len(second[1][i]):\n",
    "                    continue\n",
    "                    \n",
    "                # first의 0의 개수가 많으면 양수 second의 0의 개수가 많으면 음수가 리턴된다.\n",
    "                return len(first[1][i]) - len(second[1][i])\n",
    "            \n",
    "            else:\n",
    "                # first가 크면 양수 second가 크면 음수가 온다.\n",
    "                return int(first[1][i]) - int(second[1][i])\n",
    "        \n",
    "        # 문자열 - 문자열 비교이이다.\n",
    "        else:\n",
    "            # 같으면 패스\n",
    "            if first[1][i] == second[1][i]:\n",
    "                continue\n",
    "            else:\n",
    "                # 다르면 alphabet의 인덱스를 비교하여 양수와 음수를 반환 해준다.\n",
    "                return alphabet.index(first[1][i]) - alphabet.index(second[1][i])        \n",
    "\n",
    "    # 들어오는 데이터에서 min값까지 다 같은 상태이고 다른 데이터가 큰 경우 first가 크면 양수 second가 크면 음수를 주어진다.\n",
    "    return len(first[1]) - len(second[1])\n",
    "\n",
    "# 커스텀 정렬 수행\n",
    "answer = sorted(data, key = cmp_to_key(comp))\n",
    "for i in answer:\n",
    "    print(i[0])"
   ]
  },
  {
   "cell_type": "code",
   "execution_count": null,
   "id": "87171a96",
   "metadata": {},
   "outputs": [],
   "source": [
    "# https://castlerain.tistory.com/72 (출처)"
   ]
  },
  {
   "cell_type": "markdown",
   "id": "1badb1dc",
   "metadata": {},
   "source": [
    "<hr>"
   ]
  },
  {
   "cell_type": "markdown",
   "id": "e98f4016",
   "metadata": {},
   "source": [
    "### 정규표현식(re)\n",
    "문자열에서 문자, 숫자 분리하기"
   ]
  },
  {
   "cell_type": "code",
   "execution_count": 9,
   "id": "6686b40e",
   "metadata": {},
   "outputs": [
    {
     "name": "stdout",
     "output_type": "stream",
     "text": [
      "['F', 'o', 'o', '00012', 'B', 'a', 'r']\n",
      "['Foo', '00012', 'Bar']\n",
      "['Foo', 'Bar']\n",
      "['00012']\n",
      "['0', '0', '0', '1', '2']\n"
     ]
    }
   ],
   "source": [
    "import re\n",
    "text = \"Foo00012Bar\"\n",
    "tmp1 = re.findall(\"[a-zA-Z]|\\d+\", text) # '\\' : 이스케이프문자(명령어)\n",
    "print(tmp1)\n",
    "tmp2 = re.findall(\"[a-zA-Z]+|\\d+\", text)\n",
    "print(tmp2)\n",
    "tmp3 = re.findall(\"[a-zA-Z]+\", text)\n",
    "print(tmp3)\n",
    "tmp4 = re.findall(\"\\d+\", text)\n",
    "print(tmp4)\n",
    "tmp5 = re.findall(\"\\d\", text)\n",
    "print(tmp5)"
   ]
  },
  {
   "cell_type": "code",
   "execution_count": 5,
   "id": "7fc601ff",
   "metadata": {},
   "outputs": [
    {
     "name": "stdout",
     "output_type": "stream",
     "text": [
      "['1234567890123456789012345678901234500500']\n"
     ]
    }
   ],
   "source": [
    "import re\n",
    "text = \"1234567890123456789012345678901234500500\"\n",
    "tmp1 = re.findall(\"[a-zA-Z]|\\d+\", text)\n",
    "print(tmp1)"
   ]
  }
 ],
 "metadata": {
  "kernelspec": {
   "display_name": "Python 3",
   "language": "python",
   "name": "python3"
  },
  "language_info": {
   "codemirror_mode": {
    "name": "ipython",
    "version": 3
   },
   "file_extension": ".py",
   "mimetype": "text/x-python",
   "name": "python",
   "nbconvert_exporter": "python",
   "pygments_lexer": "ipython3",
   "version": "3.8.8"
  }
 },
 "nbformat": 4,
 "nbformat_minor": 5
}
