{
 "cells": [
  {
   "cell_type": "code",
   "execution_count": 13,
   "id": "70ce2eff",
   "metadata": {
    "scrolled": true
   },
   "outputs": [
    {
     "name": "stdout",
     "output_type": "stream",
     "text": [
      "2\n",
      "superaquatornado\n",
      "2\n",
      "4 8\n",
      "abcdefghijklmnopqrstuvwxyz\n",
      "5\n",
      "-1\n"
     ]
    }
   ],
   "source": [
    "# 정답\n",
    "import sys\n",
    "input = sys.stdin.readline\n",
    "from collections import defaultdict\n",
    "\n",
    "t = int(input())\n",
    "\n",
    "for _ in range(t):\n",
    "    w = input()\n",
    "    k = int(input())\n",
    "    answer1, answer2 = 10000, 0 # INF 필요 X. 문제 조건 활용!\n",
    "    \n",
    "    if k == 1:\n",
    "        print(1, 1)\n",
    "        continue\n",
    "    \n",
    "    # k개 이상 있는 문자만 idx들 모두 저장\n",
    "    overK_idx_dict = defaultdict(list)\n",
    "    \n",
    "    for i in range(len(w)):\n",
    "        if w.count(w[i]) >= k:\n",
    "            overK_idx_dict[w[i]].append(i)\n",
    "    # {'u': [1, 7], 'r': [4, 11], 'a': [5, 8, 13], 'o': [10, 15]}\n",
    "\n",
    "    if not overK_idx_dict:\n",
    "        print(-1)\n",
    "        continue\n",
    "    \n",
    "    # 여기서 모든 문자 탐색 X! k개 이상 있는 문자(idx)만 게임 진행\n",
    "    for idx_list in overK_idx_dict.values():\n",
    "        for i in range(len(idx_list)-k+1): # 'a' : i는 0~1\n",
    "            tmp_len = idx_list[i+k-1] - idx_list[i] + 1\n",
    "            answer1 = min(answer1, tmp_len)\n",
    "            answer2 = max(answer2, tmp_len)\n",
    "    \n",
    "    print(answer1, answer2)"
   ]
  },
  {
   "cell_type": "code",
   "execution_count": 8,
   "id": "599b9f1f",
   "metadata": {
    "scrolled": true
   },
   "outputs": [
    {
     "name": "stdout",
     "output_type": "stream",
     "text": [
      "2\n",
      "superaquatornado\n",
      "2\n",
      "4 8\n",
      "abcdefghijklmnopqrstuvwxyz\n",
      "5\n",
      "-1\n"
     ]
    }
   ],
   "source": [
    "# 시간초과 (완전탐색)\n",
    "import sys\n",
    "input = sys.stdin.readline\n",
    "\n",
    "t = int(input())\n",
    "INF = int(1e9)\n",
    "\n",
    "for _ in range(t):\n",
    "    w = input()\n",
    "    k = int(input())\n",
    "    answer1, answer2 = INF, 0\n",
    "    \n",
    "    if k == 1:\n",
    "        print(1, 1)\n",
    "        continue\n",
    "    \n",
    "    for i in range(len(w)-1):\n",
    "        for j in range(i+1, len(w)):\n",
    "            if w[j] == w[i] and w[i:j+1].count(w[i]) == k:\n",
    "                answer1 = min(answer1, len(w[i:j+1]))\n",
    "                answer2 = max(answer2, len(w[i:j+1]))\n",
    "                break\n",
    "    \n",
    "    if answer1 == 0 or answer2 == 0:\n",
    "        print(-1)\n",
    "        continue\n",
    "    \n",
    "    print(answer1, answer2)"
   ]
  },
  {
   "cell_type": "code",
   "execution_count": 9,
   "id": "22602080",
   "metadata": {},
   "outputs": [
    {
     "name": "stdout",
     "output_type": "stream",
     "text": [
      "2\n",
      "superaquatornado\n",
      "2\n",
      "4 8\n",
      "abcdefghijklmnopqrstuvwxyz\n",
      "5\n",
      "-1\n"
     ]
    }
   ],
   "source": [
    "# 시간초과 (완전탐색)\n",
    "import sys\n",
    "input = sys.stdin.readline\n",
    "\n",
    "t = int(input())\n",
    "INF = int(1e9)\n",
    "\n",
    "for _ in range(t):\n",
    "    w = input()\n",
    "    k = int(input())\n",
    "    answer1, answer2 = INF, 0\n",
    "    \n",
    "    if k == 1:\n",
    "        print(1, 1)\n",
    "        continue\n",
    "    \n",
    "    for i in range(len(w)-1): \n",
    "        cnt = 1\n",
    "        for j in range(i+1, len(w)):\n",
    "            if w[j] == w[i]:\n",
    "                cnt += 1\n",
    "                if cnt == k:\n",
    "                    answer1 = min(answer1, len(w[i:j+1]))\n",
    "                    answer2 = max(answer2, len(w[i:j+1]))\n",
    "                    break\n",
    "    \n",
    "    if answer1 == INF or answer2 == 0:\n",
    "        print(-1)\n",
    "        continue\n",
    "    \n",
    "    print(answer1, answer2)"
   ]
  },
  {
   "cell_type": "markdown",
   "id": "a5f5def9",
   "metadata": {},
   "source": [
    "<hr>"
   ]
  },
  {
   "cell_type": "code",
   "execution_count": 2,
   "id": "99213cf2",
   "metadata": {
    "scrolled": true
   },
   "outputs": [
    {
     "name": "stdout",
     "output_type": "stream",
     "text": [
      "1 1\n"
     ]
    }
   ],
   "source": [
    "print(1, 1)"
   ]
  },
  {
   "cell_type": "code",
   "execution_count": 11,
   "id": "3436e9da",
   "metadata": {},
   "outputs": [
    {
     "name": "stdout",
     "output_type": "stream",
     "text": [
      "True\n"
     ]
    }
   ],
   "source": [
    "from collections import defaultdict\n",
    "test = defaultdict(list)\n",
    "print(not test)"
   ]
  }
 ],
 "metadata": {
  "kernelspec": {
   "display_name": "Python 3",
   "language": "python",
   "name": "python3"
  },
  "language_info": {
   "codemirror_mode": {
    "name": "ipython",
    "version": 3
   },
   "file_extension": ".py",
   "mimetype": "text/x-python",
   "name": "python",
   "nbconvert_exporter": "python",
   "pygments_lexer": "ipython3",
   "version": "3.8.8"
  }
 },
 "nbformat": 4,
 "nbformat_minor": 5
}
