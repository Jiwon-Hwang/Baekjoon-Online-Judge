{
 "cells": [
  {
   "cell_type": "code",
   "execution_count": 1,
   "id": "74d4f345",
   "metadata": {},
   "outputs": [
    {
     "name": "stdout",
     "output_type": "stream",
     "text": [
      "AABCDD\n",
      "afzz\n",
      "09121\n",
      "a8EWg6\n",
      "P5h3kx\n",
      "Aa0aPAf985Bz1EhCz2W3D1gkD6x"
     ]
    }
   ],
   "source": [
    "board = []\n",
    "max_len = 0\n",
    "for _ in range(5):\n",
    "    word = input()\n",
    "    board.append(word)\n",
    "    max_len = max(max_len, len(word))\n",
    "    \n",
    "for i in range(max_len): # 최대 15이므로 max_len 대신 15로 해도 무방\n",
    "    for j in range(5):\n",
    "        if len(board[j]) > i:\n",
    "            print(board[j][i], end='')"
   ]
  }
 ],
 "metadata": {
  "kernelspec": {
   "display_name": "Python 3 (ipykernel)",
   "language": "python",
   "name": "python3"
  },
  "language_info": {
   "codemirror_mode": {
    "name": "ipython",
    "version": 3
   },
   "file_extension": ".py",
   "mimetype": "text/x-python",
   "name": "python",
   "nbconvert_exporter": "python",
   "pygments_lexer": "ipython3",
   "version": "3.9.12"
  }
 },
 "nbformat": 4,
 "nbformat_minor": 5
}
