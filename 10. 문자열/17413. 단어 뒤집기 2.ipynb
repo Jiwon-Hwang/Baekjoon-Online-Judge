{
 "cells": [
  {
   "cell_type": "code",
   "execution_count": 17,
   "id": "27408c8b",
   "metadata": {},
   "outputs": [
    {
     "name": "stdout",
     "output_type": "stream",
     "text": [
      "<   space   >space space space<    spa   c e>\n",
      "<   space   >ecaps ecaps ecaps<    spa   c e>\n"
     ]
    }
   ],
   "source": [
    "string = input()\n",
    "answer = \"\"\n",
    "\n",
    "while string:\n",
    "    if string[0] == '<':\n",
    "        for i in range(len(string)):\n",
    "            if string[i] == '>':\n",
    "                answer += string[:i+1]\n",
    "                string = string[i+1:]\n",
    "                break\n",
    "    elif string[0] == ' ':\n",
    "        answer += ' '\n",
    "        string = string[1:]\n",
    "    else:\n",
    "        for i in range(len(string)):\n",
    "            if string[i] == ' ' or string[i] == '<':\n",
    "                tmp = string[:i]\n",
    "                answer += tmp[::-1]\n",
    "                string = string[i:]\n",
    "                break\n",
    "            elif i == len(string)-1:\n",
    "                answer += string[::-1]\n",
    "                string = ''\n",
    "                break\n",
    "                \n",
    "print(answer)"
   ]
  },
  {
   "cell_type": "markdown",
   "id": "11ee54a3",
   "metadata": {},
   "source": [
    "### 문자열 반대로 뒤집기\n",
    "* str[::-1]\n",
    "* ''.join(reversed(str))"
   ]
  },
  {
   "cell_type": "code",
   "execution_count": 22,
   "id": "7148216e",
   "metadata": {},
   "outputs": [
    {
     "name": "stdout",
     "output_type": "stream",
     "text": [
      "<reversed object at 0x00000209775B9490>\n",
      "olleh\n",
      "olleh\n"
     ]
    }
   ],
   "source": [
    "test = \"hello\"\n",
    "print(reversed(test))\n",
    "print(''.join(reversed(test)))\n",
    "print(test[::-1])"
   ]
  }
 ],
 "metadata": {
  "kernelspec": {
   "display_name": "Python 3 (ipykernel)",
   "language": "python",
   "name": "python3"
  },
  "language_info": {
   "codemirror_mode": {
    "name": "ipython",
    "version": 3
   },
   "file_extension": ".py",
   "mimetype": "text/x-python",
   "name": "python",
   "nbconvert_exporter": "python",
   "pygments_lexer": "ipython3",
   "version": "3.9.12"
  }
 },
 "nbformat": 4,
 "nbformat_minor": 5
}
