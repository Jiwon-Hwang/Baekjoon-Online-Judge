{
 "cells": [
  {
   "cell_type": "code",
   "execution_count": 14,
   "id": "d8e2f7a5",
   "metadata": {},
   "outputs": [
    {
     "name": "stdout",
     "output_type": "stream",
     "text": [
      "10\n",
      "6 3 2 10 10 10 -10 -10 7 3\n",
      "8\n",
      "10 9 -5 2 3 4 5 -10\n",
      "3 0 0 1 0 0 0 2\n"
     ]
    }
   ],
   "source": [
    "# 오답 (런타임 에러(index error))\n",
    " \n",
    "## 정렬\n",
    "## Baekjoon 10816 숫자 카드 2\n",
    "## https://www.acmicpc.net/problem/10816\n",
    "\n",
    "n = int(input())\n",
    "cards = sorted(list(map(int, input().split())))\n",
    "m = int(input())\n",
    "nums = list(map(int, input().split()))\n",
    "\n",
    "# cards : [-10, -10, 2, 3, 3, 6, 7, 10, 10, 10]\n",
    "# nums  : [10, 9, -5, 2, 3, 4, 5, -10]\n",
    "\n",
    "result = [0] * m\n",
    "for i in range(m):\n",
    "    start = 0\n",
    "    end = n-1\n",
    "    \n",
    "    num = nums[i]\n",
    "    while start <= end:\n",
    "        mid = (start+end)//2\n",
    "        if cards[mid] < num:\n",
    "            start = mid + 1\n",
    "        elif cards[mid] > num:\n",
    "            end = mid - 1\n",
    "        else: # while 종료 조건\n",
    "            start_idx = cards.index(num, start, end+1)\n",
    "            for n in cards[start_idx:]:\n",
    "                if n != num:\n",
    "                    break\n",
    "                result[i] += 1\n",
    "            break\n",
    "            \n",
    "print(' '.join(map(str, result)))"
   ]
  },
  {
   "cell_type": "code",
   "execution_count": 5,
   "id": "72282ce7",
   "metadata": {
    "scrolled": true
   },
   "outputs": [
    {
     "name": "stdout",
     "output_type": "stream",
     "text": [
      "10\n",
      "6 3 2 10 10 10 -10 -10 7 3\n",
      "8\n",
      "10 9 -5 2 3 4 5 -10\n",
      "[3, 0, 0, 1, 2, 0, 0, 2]\n"
     ]
    }
   ],
   "source": [
    "# 오답 (시간초과)\n",
    "\n",
    "n = int(input())\n",
    "cards = sorted(list(map(int, input().split())))\n",
    "m = int(input())\n",
    "nums = list(map(int, input().split()))\n",
    "\n",
    "# cards : [-10, -10, 2, 3, 3, 6, 7, 10, 10, 10]\n",
    "# nums  : [10, 9, -5, 2, 3, 4, 5, -10]\n",
    "\n",
    "result = [0] * m\n",
    "for i in range(m):\n",
    "    result[i] = cards.count(nums[i])\n",
    "\n",
    "print(result)"
   ]
  },
  {
   "cell_type": "markdown",
   "id": "09df534f",
   "metadata": {},
   "source": [
    "<hr>"
   ]
  },
  {
   "cell_type": "code",
   "execution_count": 11,
   "id": "f14cd0a7",
   "metadata": {},
   "outputs": [
    {
     "name": "stdout",
     "output_type": "stream",
     "text": [
      "2\n"
     ]
    }
   ],
   "source": [
    "test = [1,4,1]\n",
    "print(test.index(1, 1, 3)) # list.index(find_num, start, end(+1)"
   ]
  }
 ],
 "metadata": {
  "kernelspec": {
   "display_name": "Python 3",
   "language": "python",
   "name": "python3"
  },
  "language_info": {
   "codemirror_mode": {
    "name": "ipython",
    "version": 3
   },
   "file_extension": ".py",
   "mimetype": "text/x-python",
   "name": "python",
   "nbconvert_exporter": "python",
   "pygments_lexer": "ipython3",
   "version": "3.8.8"
  }
 },
 "nbformat": 4,
 "nbformat_minor": 5
}
