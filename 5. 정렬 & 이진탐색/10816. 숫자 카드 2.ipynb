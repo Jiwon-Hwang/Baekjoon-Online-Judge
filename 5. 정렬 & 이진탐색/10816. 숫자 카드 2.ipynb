{
 "cells": [
  {
   "cell_type": "code",
   "execution_count": 13,
   "id": "4122a83a",
   "metadata": {},
   "outputs": [
    {
     "name": "stdout",
     "output_type": "stream",
     "text": [
      "10\n",
      "6 3 2 10 10 10 -10 -10 7 3\n",
      "8\n",
      "10 9 -5 2 3 4 5 -10\n",
      "3 0 0 1 2 0 0 2\n"
     ]
    }
   ],
   "source": [
    "# sol1) dict(해시), 리스트내포, 삼항연산자 => 652ms\n",
    " \n",
    "## 정렬, 이분탐색, 해시\n",
    "## Baekjoon 10816 숫자 카드 2\n",
    "## https://www.acmicpc.net/problem/10816\n",
    "\n",
    "n = int(input())\n",
    "cards = list(input().split())\n",
    "m = int(input())\n",
    "nums = list(input().split())\n",
    "\n",
    "result = [0] * m\n",
    "nCards_dict = {}\n",
    "for card in cards:\n",
    "    nCards_dict[card] = nCards_dict[card] + 1 if card in nCards_dict else 1\n",
    "\n",
    "result = [nCards_dict[nums[i]] if nums[i] in nCards_dict else 0 for i in range(m)]\n",
    "\n",
    "print(' '.join(map(str, result))) # str끼리만 join으로 결합 가능!"
   ]
  },
  {
   "cell_type": "code",
   "execution_count": 39,
   "id": "dedc6f8c",
   "metadata": {
    "scrolled": true
   },
   "outputs": [
    {
     "name": "stdout",
     "output_type": "stream",
     "text": [
      "10\n",
      "6 3 2 10 10 10 -10 -10 7 3\n",
      "{2, 3, 6, 7, 10, -10}\n",
      "8\n",
      "10 9 -5 2 3 4 5 -10\n",
      "3 0 0 1 2 0 0 2\n"
     ]
    }
   ],
   "source": [
    "# sol2) 이분탐색 (bisect_left,bisect_right) => 1636ms\n",
    "\n",
    "from sys import stdin\n",
    "from bisect import bisect_left, bisect_right\n",
    "\n",
    "n = int(stdin.readline())\n",
    "cards = sorted(list(map(int, stdin.readline().split()))) # sort 안하면 오답! bisect idx 차이로 count 불가\n",
    "cards_set = set(cards)\n",
    "m = int(stdin.readline())\n",
    "nums = list(map(int, stdin.readline().split()))\n",
    "\n",
    "result = [0] * m\n",
    "for i in range(m):\n",
    "    if nums[i] in cards_set:\n",
    "        result[i] = bisect_right(cards, nums[i]) - bisect_left(cards, nums[i])\n",
    "            \n",
    "print(' '.join(map(str, result)))"
   ]
  },
  {
   "cell_type": "code",
   "execution_count": 43,
   "id": "e7d5214d",
   "metadata": {},
   "outputs": [
    {
     "name": "stdout",
     "output_type": "stream",
     "text": [
      "10\n",
      "6 3 2 10 10 10 -10 -10 7 3\n",
      "8\n",
      "10 9 -5 2 3 4 5 -10\n",
      "Counter({'10': 3, '3': 2, '-10': 2, '6': 1, '2': 1, '7': 1})\n",
      "3 0 0 1 2 0 0 2\n"
     ]
    }
   ],
   "source": [
    "# sol3) 카운터 (collections - Counter) => 580ms!\n",
    "from collections import Counter\n",
    "\n",
    "_ = input()\n",
    "cards = list(input().split())\n",
    "_ = input()\n",
    "nums = list(input().split())\n",
    "\n",
    "cards_counter = Counter(cards)\n",
    "print(c)\n",
    "\n",
    "print(' '.join(str(cards_counter[num]) if num in cards_counter else '0' for num in nums))"
   ]
  },
  {
   "cell_type": "code",
   "execution_count": 30,
   "id": "d8e2f7a5",
   "metadata": {},
   "outputs": [
    {
     "name": "stdout",
     "output_type": "stream",
     "text": [
      "2\n",
      "1 1\n",
      "2\n",
      "2 1\n",
      "0 2\n"
     ]
    }
   ],
   "source": [
    "# 오답 (런타임 에러(index error))\n",
    "\n",
    "from sys import stdin\n",
    "from bisect import bisect_left, bisect_right\n",
    "\n",
    "n = int(input())\n",
    "cards = sorted(list(map(int, input().split())))\n",
    "m = int(input())\n",
    "nums = list(map(int, input().split()))\n",
    "\n",
    "# cards : [-10, -10, 2, 3, 3, 6, 7, 10, 10, 10]\n",
    "# cards : [0]\n",
    "# nums  : [10, 9, -5, 2, 3, 4, 5, -10]\n",
    "\n",
    "result = [0] * m\n",
    "# 이진 탐색 \n",
    "for i in range(m):\n",
    "    start = 0\n",
    "    end = n-1 # 9\n",
    "    \n",
    "    num = nums[i]\n",
    "    while start <= end:\n",
    "        mid = (start+end)//2\n",
    "        if cards[mid] < num:\n",
    "            start = mid + 1\n",
    "        elif cards[mid] > num:\n",
    "            end = mid - 1\n",
    "        else: # while 종료 조건\n",
    "            \n",
    "            result[i] = bisect_right(cards, num) - bisect_left(cards, num)\n",
    "            \n",
    "            #result[i] = cards[start:end+1].count(num)\n",
    "            \n",
    "            '''\n",
    "            start_idx = cards.index(num, start, mid+1) # end가 아닌 mid!\n",
    "            for n in cards[start_idx:]:\n",
    "                if n != num:\n",
    "                    break\n",
    "                result[i] += 1\n",
    "            '''\n",
    "            break\n",
    "            \n",
    "print(' '.join(map(str, result)))"
   ]
  },
  {
   "cell_type": "code",
   "execution_count": 5,
   "id": "72282ce7",
   "metadata": {
    "scrolled": true
   },
   "outputs": [
    {
     "name": "stdout",
     "output_type": "stream",
     "text": [
      "10\n",
      "6 3 2 10 10 10 -10 -10 7 3\n",
      "8\n",
      "10 9 -5 2 3 4 5 -10\n",
      "[3, 0, 0, 1, 2, 0, 0, 2]\n"
     ]
    }
   ],
   "source": [
    "# 오답 (시간초과)\n",
    "\n",
    "n = int(input())\n",
    "cards = sorted(list(map(int, input().split())))\n",
    "m = int(input())\n",
    "nums = list(map(int, input().split()))\n",
    "\n",
    "# cards : [-10, -10, 2, 3, 3, 6, 7, 10, 10, 10]\n",
    "# nums  : [10, 9, -5, 2, 3, 4, 5, -10]\n",
    "\n",
    "result = [0] * m\n",
    "for i in range(m):\n",
    "    result[i] = cards.count(nums[i])\n",
    "\n",
    "print(' '.join(map(str, result)))"
   ]
  },
  {
   "cell_type": "markdown",
   "id": "09df534f",
   "metadata": {},
   "source": [
    "<hr>"
   ]
  },
  {
   "cell_type": "markdown",
   "id": "977bee9c",
   "metadata": {},
   "source": [
    "## [리스트내포 + 삼항연산자]\n",
    "리스트내포에서 for문과 if문을 함께 사용할 때,\n",
    "* for문을 앞에, if~else문을 뒤에 => else문까지 사용 시 error! (if절까지만 가능)\n",
    "* if~else문을 앞에, for문을 뒤에 => else문까지 사용 가능"
   ]
  },
  {
   "cell_type": "code",
   "execution_count": 15,
   "id": "b18dc068",
   "metadata": {},
   "outputs": [],
   "source": [
    "# correct\n",
    "result = [nCards_dict[nums[i]] if nums[i] in nCards_dict else 0 for i in range(m)]"
   ]
  },
  {
   "cell_type": "code",
   "execution_count": 16,
   "id": "2ec47ecc",
   "metadata": {
    "scrolled": true
   },
   "outputs": [
    {
     "ename": "SyntaxError",
     "evalue": "invalid syntax (1691403759.py, line 2)",
     "output_type": "error",
     "traceback": [
      "\u001b[1;36m  Input \u001b[1;32mIn [16]\u001b[1;36m\u001b[0m\n\u001b[1;33m    result = [nCards_dict[nums[i]] for i in range(m) if nums[i] in nCards_dict else 0] #error!\u001b[0m\n\u001b[1;37m                                                                               ^\u001b[0m\n\u001b[1;31mSyntaxError\u001b[0m\u001b[1;31m:\u001b[0m invalid syntax\n"
     ]
    }
   ],
   "source": [
    "# error\n",
    "result = [nCards_dict[nums[i]] for i in range(m) if nums[i] in nCards_dict else 0] #error!"
   ]
  },
  {
   "cell_type": "markdown",
   "id": "f079972b",
   "metadata": {},
   "source": [
    "## [list, tuple, dict, set의 시간복잡도]\n",
    "> iteration 등의 연산 시, 무조건 list, tuple보다 **set, dict** 쓰자!!  \n",
    "### 1. list / tuple\n",
    "* `in` / `not in` : O(N)\n",
    "* `pop(i)` : O(N)\n",
    "* `pop()` : O(1)  \n",
    "  \n",
    "### 2. dict\n",
    "* `in` / `not in` : O(1)\n",
    "* `pop(i)` : O(1)\n",
    "* `popitem()` : O(1)  (random)   \n",
    "> cf. collections의 `Counter`도 dict로 반환하므로, 검색 속도 빠름!\n",
    "\n",
    "### 3. set\n",
    "* `in` / `not in` : O(1)\n",
    "* `pop()` : O(1) (random)  "
   ]
  },
  {
   "cell_type": "markdown",
   "id": "9ac14c8f",
   "metadata": {},
   "source": [
    "## [index() 함수]\n",
    "* 찾을 아이템의 인덱스를 찾아줌\n",
    "* 찾을 범위 지정 가능(start, end)\n",
    "    * 단, end + 1까지 해줘야 end에 해당하는 인덱스까지 포함해서 검색"
   ]
  },
  {
   "cell_type": "code",
   "execution_count": 11,
   "id": "f14cd0a7",
   "metadata": {},
   "outputs": [
    {
     "name": "stdout",
     "output_type": "stream",
     "text": [
      "2\n"
     ]
    }
   ],
   "source": [
    "test = [1,4,1]\n",
    "print(test.index(1, 1, 3)) # list.index(find_num, start, end(+1)"
   ]
  },
  {
   "cell_type": "markdown",
   "id": "e804419b",
   "metadata": {},
   "source": [
    "## [dict에서 특정 key가 있는지 탐색]\n",
    "* `in` 만 써주면 value가 아닌 key들 중에서만 검색"
   ]
  },
  {
   "cell_type": "code",
   "execution_count": 4,
   "id": "2a2700d2",
   "metadata": {},
   "outputs": [
    {
     "name": "stdout",
     "output_type": "stream",
     "text": [
      "True\n",
      "False\n"
     ]
    }
   ],
   "source": [
    "a = {'name':'pey', 'phone':'0119993323', 'birth': '1118'}\n",
    "print('name' in a)\n",
    "print('pey' in a)"
   ]
  },
  {
   "cell_type": "markdown",
   "id": "e697e7f6",
   "metadata": {},
   "source": [
    "## [bisect_left, bisect_right]\n",
    "**이진탐색(정렬 포함)** 을 통해, 특정 아이템이 왼쪽 및 오른쪽에 삽입될 때 어느 위치에 들어갈지 `index` return  \n",
    "* 미리 정렬 후 사용 시, 특정 아이템의 **count** 구할 수 있음 \n",
    "    * **이진탐색**이므로, 그냥 count()에 비해 **시간복잡도 낮음**!"
   ]
  },
  {
   "cell_type": "code",
   "execution_count": 20,
   "id": "dcc29299",
   "metadata": {},
   "outputs": [
    {
     "name": "stdout",
     "output_type": "stream",
     "text": [
      "2\n",
      "5\n"
     ]
    }
   ],
   "source": [
    "from bisect import bisect_left, bisect_right\n",
    "test = [1,2,3,3,3]\n",
    "print(bisect_left(test, 3))\n",
    "print(bisect_right(test, 3))"
   ]
  },
  {
   "cell_type": "code",
   "execution_count": 36,
   "id": "84764166",
   "metadata": {},
   "outputs": [
    {
     "name": "stdout",
     "output_type": "stream",
     "text": [
      "0\n",
      "0\n",
      "5\n",
      "2\n",
      "5\n",
      "[1, 2, 3, 3, 3, 6]\n"
     ]
    }
   ],
   "source": [
    "from bisect import bisect_left, bisect_right\n",
    "test = [1,2,3,3,3,6]\n",
    "print(bisect_left(test, -1))\n",
    "print(bisect_right(test, -1))\n",
    "print(bisect_right(test, 4))\n",
    "print(bisect_left(test, 3))\n",
    "print(bisect_right(test, 3))\n",
    "print(test)"
   ]
  }
 ],
 "metadata": {
  "kernelspec": {
   "display_name": "Python 3",
   "language": "python",
   "name": "python3"
  },
  "language_info": {
   "codemirror_mode": {
    "name": "ipython",
    "version": 3
   },
   "file_extension": ".py",
   "mimetype": "text/x-python",
   "name": "python",
   "nbconvert_exporter": "python",
   "pygments_lexer": "ipython3",
   "version": "3.8.8"
  }
 },
 "nbformat": 4,
 "nbformat_minor": 5
}
