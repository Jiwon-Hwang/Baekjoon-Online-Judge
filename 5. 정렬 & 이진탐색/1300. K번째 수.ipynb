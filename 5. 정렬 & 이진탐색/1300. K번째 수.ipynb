{
 "cells": [
  {
   "cell_type": "code",
   "execution_count": null,
   "id": "85b44d27",
   "metadata": {},
   "outputs": [],
   "source": [
    "## 정렬, 이분탐색\n",
    "## Baekjoon 1300 K번째 수\n",
    "## https://www.acmicpc.net/problem/1300"
   ]
  },
  {
   "cell_type": "code",
   "execution_count": 1,
   "id": "a35dee7e",
   "metadata": {},
   "outputs": [
    {
     "name": "stdout",
     "output_type": "stream",
     "text": [
      "3\n",
      "7\n",
      "6\n"
     ]
    }
   ],
   "source": [
    "# sol1) 이분탐색 => 1028ms\n",
    "\n",
    "n = int(input())\n",
    "k = int(input())\n",
    "\n",
    "start = 1\n",
    "end = k\n",
    "result = 0\n",
    "while start <= end:\n",
    "    mid = (start + end) // 2\n",
    "    cnt = 0\n",
    "    for i in range(1, n+1):\n",
    "        cnt = cnt + min(mid//i, n)\n",
    "    \n",
    "    if cnt >= k:\n",
    "        result = mid\n",
    "        end = mid - 1\n",
    "    else:\n",
    "        start = mid + 1\n",
    "\n",
    "print(result)"
   ]
  },
  {
   "cell_type": "code",
   "execution_count": 4,
   "id": "6804e4b0",
   "metadata": {},
   "outputs": [
    {
     "name": "stdout",
     "output_type": "stream",
     "text": [
      "3\n",
      "7\n",
      "6\n"
     ]
    }
   ],
   "source": [
    "# sol2) 이분탐색 (check함수로 T/F return) => 396ms!\n",
    "\n",
    "n = int(input())\n",
    "k = int(input())\n",
    "\n",
    "def check(mid, kk):\n",
    "    cnt = 0\n",
    "    for i in range(1, n+1):\n",
    "        tmp = mid // i\n",
    "        cnt = cnt + tmp if tmp < n else cnt + n\n",
    "    return cnt >= kk\n",
    "\n",
    "start = 1\n",
    "end = k\n",
    "result = 0\n",
    "while start <= end:\n",
    "    mid = (start + end) // 2\n",
    "    \n",
    "    if check(mid, k):\n",
    "        result = mid\n",
    "        end = mid - 1\n",
    "    else:\n",
    "        start = mid + 1\n",
    "\n",
    "print(result)"
   ]
  }
 ],
 "metadata": {
  "kernelspec": {
   "display_name": "Python 3",
   "language": "python",
   "name": "python3"
  },
  "language_info": {
   "codemirror_mode": {
    "name": "ipython",
    "version": 3
   },
   "file_extension": ".py",
   "mimetype": "text/x-python",
   "name": "python",
   "nbconvert_exporter": "python",
   "pygments_lexer": "ipython3",
   "version": "3.8.8"
  }
 },
 "nbformat": 4,
 "nbformat_minor": 5
}
