{
 "cells": [
  {
   "cell_type": "code",
   "execution_count": null,
   "id": "2ebe6956",
   "metadata": {},
   "outputs": [],
   "source": [
    "## 정렬, 이분탐색\n",
    "## Baekjoon 2110 공유기 설치\n",
    "## https://www.acmicpc.net/problem/2110"
   ]
  },
  {
   "cell_type": "code",
   "execution_count": null,
   "id": "d30e6c3a",
   "metadata": {},
   "outputs": [],
   "source": [
    "# sol1) sys.stdin.realine(), 이분탐색 => 664ms\n",
    "\n",
    "import sys\n",
    "\n",
    "n, c = map(int, input().split())\n",
    "x_list = sorted([int(sys.stdin.readline()) for _ in range(n)])\n",
    "\n",
    "start = 1                    # 최소 거리\n",
    "end = x_list[-1] - x_list[0] # 최대 거리\n",
    "result = 0                   # 인접(최소) 공유기 사이의 최대 거리\n",
    "\n",
    "# start~end 사이에서 \"인접 공유기 사이 거리(mid)\" 바꿔가며 이진탐색\n",
    "# 즉, 변수 : \"거리\" !\n",
    "while(start <= end):\n",
    "    mid = (start + end) // 2 # 평균(중간) 거리부터 탐색 시작\n",
    "    tmp_x = x_list[0]\n",
    "    cnt = 1 # 첫번째 집에 미리 설치했으므로\n",
    "    \n",
    "    # 인접 공유기 사이 (최소) 거리 이상이면 공유기 모두 설치\n",
    "    for i in range(1, n):\n",
    "        if x_list[i] >= tmp_x + mid:\n",
    "            tmp_x = x_list[i]\n",
    "            cnt += 1 # 공유기 설치 개수 추가\n",
    "            \n",
    "    # 인접 공유기 사이 거리 늘리기 (더 넓게 설치)\n",
    "    if cnt >= c:\n",
    "        result = mid\n",
    "        start = mid + 1\n",
    "    # 인접 공유기 사이 거리 줄이기 (더 좁게 설치)\n",
    "    else:\n",
    "        end = mid - 1\n",
    "\n",
    "print(result)"
   ]
  },
  {
   "cell_type": "code",
   "execution_count": null,
   "id": "897b7171",
   "metadata": {},
   "outputs": [],
   "source": [
    "# sol2) sys.stdin.realine(), 이분탐색(최대 범위 // c-1) => 384ms\n",
    "\n",
    "import sys\n",
    "\n",
    "n, c = map(int, input().split())\n",
    "x_list = sorted([int(sys.stdin.readline()) for _ in range(n)])\n",
    "\n",
    "start = 1                               # 최소 거리\n",
    "end = (x_list[-1] - x_list[0]) // (c-1) # 최대 거리 (c-1로 나누기!)\n",
    "result = 0                      # 인접(최소) 공유기 사이의 최대 거리\n",
    "\n",
    "# start~end 사이에서 \"인접 공유기 사이 거리(mid)\" 바꿔가며 이진탐색\n",
    "# 즉, 변수 : \"거리\" !\n",
    "while(start <= end):\n",
    "    mid = (start + end) // 2 # 평균(중간) 거리부터 탐색 시작\n",
    "    tmp_x = x_list[0]\n",
    "    cnt = 1 # 첫번째 집에 미리 설치했으므로\n",
    "    \n",
    "    # 인접 공유기 사이 (최소) 거리 이상이면 공유기 모두 설치\n",
    "    for i in range(1, n):\n",
    "        if x_list[i] >= tmp_x + mid:\n",
    "            tmp_x = x_list[i]\n",
    "            cnt += 1 # 공유기 설치 개수 추가\n",
    "            \n",
    "    # 인접 공유기 사이 거리 늘리기 (더 넓게 설치)\n",
    "    if cnt >= c:\n",
    "        result = mid\n",
    "        start = mid + 1\n",
    "    # 인접 공유기 사이 거리 줄이기 (더 좁게 설치)\n",
    "    else:\n",
    "        end = mid - 1\n",
    "\n",
    "print(result)"
   ]
  },
  {
   "cell_type": "code",
   "execution_count": 11,
   "id": "548480d7",
   "metadata": {},
   "outputs": [
    {
     "name": "stdout",
     "output_type": "stream",
     "text": [
      "5 3\n",
      "1\n",
      "2\n",
      "8\n",
      "4\n",
      "9\n",
      "3\n"
     ]
    }
   ],
   "source": [
    "# 오답 (시간초과 : input(), 이분탐색)\n",
    "n, c = map(int, input().split())\n",
    "x_list = sorted([int(input()) for _ in range(n)])\n",
    "\n",
    "start = 1                    # 최소 거리\n",
    "end = x_list[-1] - x_list[0] # 최대 거리\n",
    "result = 0                   # 인접(최소) 공유기 사이의 최대 거리\n",
    "\n",
    "# start~end 사이에서 \"인접 공유기 사이 거리(mid)\" 바꿔가며 이진탐색\n",
    "while(start <= end):\n",
    "    mid = (start + end) // 2 # 평균(중간) 거리부터 탐색 시작\n",
    "    tmp_x = x_list[0]\n",
    "    cnt = 1 # 첫번째 집에 미리 설치했으므로\n",
    "    \n",
    "    # 인접 공유기 사이 (최소) 거리 이상이면 공유기 모두 설치\n",
    "    for i in range(1, n):\n",
    "        if x_list[i] >= tmp_x + mid:\n",
    "            tmp_x = x_list[i]\n",
    "            cnt += 1 # 공유기 설치 개수 추가\n",
    "            \n",
    "    # 인접 공유기 사이 거리 늘리기 (더 넓게 설치)\n",
    "    if cnt >= c:\n",
    "        result = mid\n",
    "        start = mid + 1\n",
    "    # 인접 공유기 사이 거리 줄이기 (더 좁게 설치)\n",
    "    else:\n",
    "        end = mid - 1\n",
    "\n",
    "print(result)"
   ]
  },
  {
   "cell_type": "code",
   "execution_count": 9,
   "id": "8686cfe1",
   "metadata": {},
   "outputs": [
    {
     "name": "stdout",
     "output_type": "stream",
     "text": [
      "5 3\n",
      "1\n",
      "2\n",
      "8\n",
      "4\n",
      "9\n",
      "3\n"
     ]
    }
   ],
   "source": [
    "# 오답 (시간초과 : 범위가 크므로 완전 탐색은 x)\n",
    "import sys\n",
    "from itertools import combinations\n",
    "\n",
    "n, c = map(int, input().split())\n",
    "x_list = sorted([int(input()) for _ in range(n)])\n",
    "\n",
    "result = 0 # 인접 공유기 사이의 최대 거리\n",
    "for comb in combinations(x_list, c):\n",
    "    if (comb[0], comb[-1]) == (x_list[0], x_list[-1]):\n",
    "        comb_min_dist = comb[1] - comb[0] # 1\n",
    "        if comb_min_dist < result:\n",
    "            continue\n",
    "        for i in range(1, c-1):\n",
    "            tmp_dist = comb[i+1] - comb[i]\n",
    "            if tmp_dist < result:\n",
    "                break\n",
    "            result = min(tmp_dist, comb_min_dist)\n",
    "        \n",
    "print(result)"
   ]
  },
  {
   "cell_type": "markdown",
   "id": "63952d9d",
   "metadata": {},
   "source": [
    "<hr>"
   ]
  },
  {
   "cell_type": "markdown",
   "id": "a49eea46",
   "metadata": {},
   "source": [
    "## [input() vs sys.stdin.readline()]\n",
    "jupyter에서는 input() 밖에 사용 불가하지만, 실제로는 **sys.stdin.readline()이 훨씬 빠름!**  \n",
    "> input()으로 하면 *시간초과* 나는 경우가 있음"
   ]
  }
 ],
 "metadata": {
  "kernelspec": {
   "display_name": "Python 3",
   "language": "python",
   "name": "python3"
  },
  "language_info": {
   "codemirror_mode": {
    "name": "ipython",
    "version": 3
   },
   "file_extension": ".py",
   "mimetype": "text/x-python",
   "name": "python",
   "nbconvert_exporter": "python",
   "pygments_lexer": "ipython3",
   "version": "3.8.8"
  }
 },
 "nbformat": 4,
 "nbformat_minor": 5
}
