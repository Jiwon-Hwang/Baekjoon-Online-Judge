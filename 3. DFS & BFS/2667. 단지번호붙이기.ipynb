{
 "cells": [
  {
   "cell_type": "code",
   "execution_count": 23,
   "id": "39edce99",
   "metadata": {
    "scrolled": true
   },
   "outputs": [
    {
     "name": "stdout",
     "output_type": "stream",
     "text": [
      "7\n",
      "0110100\n",
      "0110101\n",
      "1110101\n",
      "0000111\n",
      "0100000\n",
      "0111110\n",
      "0111000\n",
      "new danji!\n",
      "nx, ny : [ 0 2 ]\n",
      "nx, ny : [ 1 1 ]\n",
      "nx, ny : [ 1 2 ]\n",
      "nx, ny : [ 2 1 ]\n",
      "nx, ny : [ 2 2 ]\n",
      "nx, ny : [ 2 0 ]\n",
      "new danji!\n",
      "nx, ny : [ 1 4 ]\n",
      "nx, ny : [ 2 4 ]\n",
      "nx, ny : [ 3 4 ]\n",
      "nx, ny : [ 3 5 ]\n",
      "nx, ny : [ 3 6 ]\n",
      "nx, ny : [ 2 6 ]\n",
      "nx, ny : [ 1 6 ]\n",
      "new danji!\n",
      "nx, ny : [ 5 1 ]\n",
      "nx, ny : [ 5 2 ]\n",
      "nx, ny : [ 6 1 ]\n",
      "nx, ny : [ 5 3 ]\n",
      "nx, ny : [ 6 2 ]\n",
      "nx, ny : [ 5 4 ]\n",
      "nx, ny : [ 6 3 ]\n",
      "nx, ny : [ 5 5 ]\n",
      "3\n",
      "7\n",
      "8\n",
      "9\n"
     ]
    }
   ],
   "source": [
    "from collections import deque\n",
    "\n",
    "n = int(input())\n",
    "graph = [list(map(int, list(input()))) for _ in range(n)]\n",
    "\n",
    "dx = [0, 0, 1, -1]\n",
    "dy = [1, -1, 0, 0]\n",
    "\n",
    "danji_num = 0\n",
    "house_num_list = []\n",
    "for i in range(n):\n",
    "    for j in range(n):\n",
    "        if graph[i][j] == 1:\n",
    "            # bfs\n",
    "            queue = deque()\n",
    "            queue.append([i, j])\n",
    "\n",
    "            # 첫 시작점의 nx, ny부터 cnt += 1 해주므로, cnt = 1부터 시작\n",
    "            cnt = 1 \n",
    "            graph[i][j] = 0\n",
    "            while queue:\n",
    "                x, y = queue.popleft() # 현재는 0이지만 1이었던 곳의 사방면 탐색\n",
    "\n",
    "                for k in range(4):\n",
    "                    nx = x + dx[k]\n",
    "                    ny = y + dy[k]\n",
    "\n",
    "                    if nx in range(n) and ny in range(n):\n",
    "                        if graph[nx][ny] == 1:\n",
    "                            queue.append([nx, ny])\n",
    "                            # x,y가 아니라 현재 nx,ny를 0으로 & cnt++\n",
    "                            # 1 발견한 곳 다시는 방문하지 않도록!\n",
    "                            graph[nx][ny] = 0 \n",
    "                            cnt += 1\n",
    "\n",
    "            house_num_list.append(cnt)\n",
    "            \n",
    "house_num_list.sort()\n",
    "print(len(house_num_list))\n",
    "for num in house_num_list:\n",
    "    print(num)"
   ]
  }
 ],
 "metadata": {
  "kernelspec": {
   "display_name": "Python 3 (ipykernel)",
   "language": "python",
   "name": "python3"
  },
  "language_info": {
   "codemirror_mode": {
    "name": "ipython",
    "version": 3
   },
   "file_extension": ".py",
   "mimetype": "text/x-python",
   "name": "python",
   "nbconvert_exporter": "python",
   "pygments_lexer": "ipython3",
   "version": "3.9.12"
  }
 },
 "nbformat": 4,
 "nbformat_minor": 5
}
