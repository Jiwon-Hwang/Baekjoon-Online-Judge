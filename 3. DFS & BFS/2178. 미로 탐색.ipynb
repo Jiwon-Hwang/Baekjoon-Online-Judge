{
 "cells": [
  {
   "cell_type": "code",
   "execution_count": 15,
   "id": "d338f354",
   "metadata": {},
   "outputs": [
    {
     "name": "stdout",
     "output_type": "stream",
     "text": [
      "4 6\n",
      "101111\n",
      "101010\n",
      "101011\n",
      "111011\n",
      "15\n"
     ]
    }
   ],
   "source": [
    "# 정답 - bfs (visited, queue)\n",
    "from collections import deque\n",
    "n, m = map(int, input().split())\n",
    "miro = [list(map(int, list(input()))) for _ in range(n)]\n",
    "\n",
    "visited = [[0]*m for _ in range(n)] # ~까지의 이동 횟수(방문한 칸 수)\n",
    "dx = [-1, 1, 0, 0]\n",
    "dy = [0, 0, -1, 1]\n",
    "\n",
    "# bfs\n",
    "q = deque()\n",
    "q.append([0, 0]) # 시작 위치\n",
    "visited[0][0] = 1 # 시작 위치까지의 방문 칸 수 1칸\n",
    "\n",
    "# 큐가 빌 때까지 반복\n",
    "while q: \n",
    "    x, y = q.popleft()\n",
    "    if x == n-1 and y == m-1:\n",
    "        print(visited[x][y])\n",
    "        break\n",
    "    for i in range(4):\n",
    "        nx = x + dx[i] # -1 -> 1 ->  0 -> 0\n",
    "        ny = y + dy[i] #  0 -> 0 -> -1 -> 1\n",
    "        if 0 <= nx < n and 0 <= ny < m: # 범위 내 인덱스\n",
    "            if miro[nx][ny] == 1 and visited[nx][ny] == 0:\n",
    "                q.append([nx, ny])\n",
    "                visited[nx][ny] = visited[x][y] + 1 #방문 칸수 1 추가\n",
    "                "
   ]
  },
  {
   "cell_type": "code",
   "execution_count": 16,
   "id": "05746826",
   "metadata": {},
   "outputs": [
    {
     "data": {
      "text/plain": [
       "[[1, 0, 9, 10, 11, 12],\n",
       " [2, 0, 8, 0, 12, 0],\n",
       " [3, 0, 7, 0, 13, 14],\n",
       " [4, 5, 6, 0, 14, 15]]"
      ]
     },
     "execution_count": 16,
     "metadata": {},
     "output_type": "execute_result"
    }
   ],
   "source": [
    "# cf. 각 위치까지 도달하는 데에 필요한 \"최소\" 방문 칸 수 => \"bfs\"\n",
    "visited"
   ]
  },
  {
   "cell_type": "code",
   "execution_count": 13,
   "id": "0e66d8ec",
   "metadata": {},
   "outputs": [
    {
     "name": "stdout",
     "output_type": "stream",
     "text": [
      "4 6\n",
      "101111\n",
      "101010\n",
      "101011\n",
      "111011\n",
      "19\n"
     ]
    }
   ],
   "source": [
    "# 오답 - 모든 경우의 수를 다 구하는 것이 아니라, ~까지의 최소 방문 칸수!\n",
    "from collections import deque\n",
    "n, m = map(int, input().split())\n",
    "miro = [list(map(int, list(input()))) for _ in range(n)]\n",
    "\n",
    "cnt = 1 # *** cnt로 누적하면, 모든 경우의 수를 다 누적한 것이므로 X ***\n",
    "isVisited = [[False]*m for _ in range(n)]\n",
    "dx = [-1, 1, 0, 0]\n",
    "dy = [0, 0, -1, 1]\n",
    "\n",
    "# bfs\n",
    "q = deque()\n",
    "q.append([0, 0]) # 시작 위치\n",
    "\n",
    "# 큐가 빌 때까지 반복\n",
    "while q: \n",
    "    x, y = q.popleft()\n",
    "    if x == n-1 and y == m-1:\n",
    "        cnt += 1\n",
    "        break\n",
    "    for i in range(4):\n",
    "        nx = x + dx[i] # -1 -> 1 ->  0 -> 0\n",
    "        ny = y + dy[i] #  0 -> 0 -> -1 -> 1\n",
    "        if 0 <= nx < n and 0 <= ny < m: # 범위 내 인덱스\n",
    "            if miro[nx][ny] == 1 and isVisited[nx][ny] == False:\n",
    "                q.append([nx, ny])\n",
    "                isVisited[nx][ny] = True\n",
    "                cnt += 1\n",
    "print(cnt)"
   ]
  }
 ],
 "metadata": {
  "kernelspec": {
   "display_name": "Python 3",
   "language": "python",
   "name": "python3"
  },
  "language_info": {
   "codemirror_mode": {
    "name": "ipython",
    "version": 3
   },
   "file_extension": ".py",
   "mimetype": "text/x-python",
   "name": "python",
   "nbconvert_exporter": "python",
   "pygments_lexer": "ipython3",
   "version": "3.8.8"
  }
 },
 "nbformat": 4,
 "nbformat_minor": 5
}
