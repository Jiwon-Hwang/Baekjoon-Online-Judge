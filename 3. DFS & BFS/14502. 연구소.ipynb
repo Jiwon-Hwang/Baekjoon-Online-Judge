{
 "cells": [
  {
   "cell_type": "code",
   "execution_count": 7,
   "id": "4458ba4b",
   "metadata": {},
   "outputs": [
    {
     "name": "stdout",
     "output_type": "stream",
     "text": [
      "4 6\n",
      "0 0 0 0 0 0\n",
      "1 0 0 0 0 2\n",
      "1 1 1 0 0 2\n",
      "0 0 0 0 0 2\n",
      "9\n"
     ]
    }
   ],
   "source": [
    "from itertools import combinations\n",
    "from collections import deque\n",
    "import copy\n",
    "\n",
    "def getDim(graph, two_xy_list, pos_list, n, m):\n",
    "    # 벽(1) 3곳 세우기\n",
    "    G = copy.deepcopy(graph) # 받아온 graph 그대로 쓰면 얕은 복사 돼서 X! (원본에 영향끼침)\n",
    "    for i in range(3):\n",
    "        x, y = pos_list[i]\n",
    "        G[x][y] = 1\n",
    "    \n",
    "    # 감염 시작 (bfs)\n",
    "    dx = [0, 0, 1, -1]\n",
    "    dy = [1, -1, 0, 0]\n",
    "\n",
    "    for two_pos in two_xy_list:\n",
    "        queue = deque([two_pos])\n",
    "\n",
    "        while queue:\n",
    "            x, y = queue.popleft()\n",
    "            for i in range(4):\n",
    "                nx, ny = x+dx[i], y+dy[i]\n",
    "                if nx in range(0, n) and ny in range(0, m):\n",
    "                    if G[nx][ny] == 0:\n",
    "                        G[nx][ny] = 2\n",
    "                        queue.append([nx, ny])\n",
    "\n",
    "    # 안전 면적 구하기\n",
    "    cnt = 0\n",
    "    for i in range(n):\n",
    "        for j in range(m):\n",
    "            if G[i][j] == 0:\n",
    "                cnt+=1\n",
    "\n",
    "    return cnt\n",
    "\n",
    "\n",
    "# main\n",
    "n, m = map(int, input().split())\n",
    "graph = [list(map(int, input().split())) for _ in range(n)]\n",
    "zero_xy_list = []\n",
    "two_xy_list = []\n",
    "for i in range(n):\n",
    "    for j in range(m):\n",
    "        if graph[i][j] == 0:\n",
    "            zero_xy_list.append([i, j])\n",
    "            continue\n",
    "        if graph[i][j] == 2:\n",
    "            two_xy_list.append([i, j])\n",
    "            continue\n",
    "\n",
    "xy_list = [[a, b, c] for a,b,c in combinations(zero_xy_list, 3)]\n",
    "\n",
    "max_dim = 0\n",
    "for trio in xy_list:\n",
    "    max_dim = max(max_dim, getDim(graph, two_xy_list, trio, n, m))\n",
    "\n",
    "print(max_dim)"
   ]
  }
 ],
 "metadata": {
  "kernelspec": {
   "display_name": "Python 3 (ipykernel)",
   "language": "python",
   "name": "python3"
  },
  "language_info": {
   "codemirror_mode": {
    "name": "ipython",
    "version": 3
   },
   "file_extension": ".py",
   "mimetype": "text/x-python",
   "name": "python",
   "nbconvert_exporter": "python",
   "pygments_lexer": "ipython3",
   "version": "3.9.12"
  }
 },
 "nbformat": 4,
 "nbformat_minor": 5
}
