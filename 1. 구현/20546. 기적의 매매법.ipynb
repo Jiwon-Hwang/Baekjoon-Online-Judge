{
 "cells": [
  {
   "cell_type": "code",
   "execution_count": 5,
   "id": "a98d120d",
   "metadata": {},
   "outputs": [
    {
     "name": "stdout",
     "output_type": "stream",
     "text": [
      "100\n",
      "10 20 23 34 55 30 22 19 12 45 23 44 34 38\n",
      "BNP\n"
     ]
    }
   ],
   "source": [
    "seed = int(input())\n",
    "juga_list = list(map(int, input().split()))\n",
    "\n",
    "# junhyun\n",
    "bnp = seed\n",
    "num = 0\n",
    "for juga in juga_list:\n",
    "    if bnp == 0:\n",
    "        break\n",
    "    buy = bnp // juga\n",
    "    num += buy\n",
    "    bnp -= juga * buy\n",
    "\n",
    "bnp_result = bnp + num * juga_list[-1]\n",
    "\n",
    "# sungmin\n",
    "timing = seed\n",
    "num = 0\n",
    "for i in range(len(juga_list)-3):\n",
    "    if juga_list[i] < juga_list[i+1] < juga_list[i+2] < juga_list[i+3] and num!=0:\n",
    "        sell = num\n",
    "        num = 0\n",
    "        timing += juga_list[i+3] * sell\n",
    "    \n",
    "    if juga_list[i] > juga_list[i+1] > juga_list[i+2] > juga_list[i+3]:\n",
    "        buy = timing // juga_list[i+3]\n",
    "        num += buy\n",
    "        timing -= juga_list[i+3] * buy\n",
    "\n",
    "timing_result = timing + num * juga_list[-1]\n",
    "\n",
    "# print result\n",
    "if bnp_result > timing_result:\n",
    "    print(\"BNP\")\n",
    "elif bnp_result < timing_result:\n",
    "    print(\"TIMING\")\n",
    "else:\n",
    "    print(\"SAMESAME\")"
   ]
  }
 ],
 "metadata": {
  "kernelspec": {
   "display_name": "Python 3 (ipykernel)",
   "language": "python",
   "name": "python3"
  },
  "language_info": {
   "codemirror_mode": {
    "name": "ipython",
    "version": 3
   },
   "file_extension": ".py",
   "mimetype": "text/x-python",
   "name": "python",
   "nbconvert_exporter": "python",
   "pygments_lexer": "ipython3",
   "version": "3.9.12"
  }
 },
 "nbformat": 4,
 "nbformat_minor": 5
}
