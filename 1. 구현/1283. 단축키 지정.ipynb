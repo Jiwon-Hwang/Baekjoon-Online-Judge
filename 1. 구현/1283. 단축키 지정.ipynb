{
 "cells": [
  {
   "cell_type": "code",
   "execution_count": null,
   "id": "c98dd82f",
   "metadata": {},
   "outputs": [],
   "source": [
    "def find_shortcut(word_list):\n",
    "    for idx, word in enumerate(word_list):\n",
    "        if word[0].upper() not in short_cut:\n",
    "            short_cut.add(str(word[0]).upper())\n",
    "            temp_word = list(word)\n",
    "            temp_word.pop(0)\n",
    "            text = \"[\" + word[0] + \"]\" + \"\".join(temp_word)\n",
    "            word_list[idx] = text\n",
    "            return \" \".join(word_list)\n",
    "\n",
    "    temp = \" \".join(word_list)\n",
    "\n",
    "    for idx, t in enumerate(temp):\n",
    "        if t != \" \":\n",
    "            if (t.upper() not in short_cut):\n",
    "                short_cut.add(t.upper())\n",
    "                return temp[0:idx] + \"[\" + t + \"]\" + temp[idx+1:]\n",
    "    \n",
    "    return \" \".join(word_list)\n",
    "\n",
    "short_cut = set()\n",
    "\n",
    "for _ in range(int(input())):\n",
    "    option = input()\n",
    "    print(find_shortcut(list(option.split())))"
   ]
  }
 ],
 "metadata": {
  "kernelspec": {
   "display_name": "Python 3",
   "language": "python",
   "name": "python3"
  },
  "language_info": {
   "codemirror_mode": {
    "name": "ipython",
    "version": 3
   },
   "file_extension": ".py",
   "mimetype": "text/x-python",
   "name": "python",
   "nbconvert_exporter": "python",
   "pygments_lexer": "ipython3",
   "version": "3.8.8"
  }
 },
 "nbformat": 4,
 "nbformat_minor": 5
}
