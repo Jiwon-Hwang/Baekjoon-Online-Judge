{
 "cells": [
  {
   "cell_type": "code",
   "execution_count": 9,
   "id": "cf5bbe8e",
   "metadata": {},
   "outputs": [
    {
     "name": "stdout",
     "output_type": "stream",
     "text": [
      "8\n",
      "3 1 \n",
      "3 0\n",
      "6 0\n",
      "2 1 \n",
      "4 1 \n",
      "3 0\n",
      "4 0\n",
      "3 1\n",
      "tmp_list : [1, 0, 0, 1]\n",
      "[1, 0, 0, 1] 1\n",
      "[1, 0, 0, 1] 0\n",
      "[1, 0, 0, 1] 0\n",
      "tmp_list : [0]\n",
      "tmp_list : [1]\n",
      "tmp_list : [1, 0]\n",
      "[1, 0] 1\n",
      "3\n"
     ]
    }
   ],
   "source": [
    "# sol1\n",
    "from collections import defaultdict\n",
    "\n",
    "n = int(input())\n",
    "cows = defaultdict(list)\n",
    "for _ in range(n):\n",
    "    key, value = map(int, input().split())\n",
    "    cows[key].append(value)\n",
    "\n",
    "cnt = 0\n",
    "for key in cows:\n",
    "    tmp_list = cows[key]\n",
    "    if len(tmp_list) == 1:\n",
    "        continue\n",
    "    flag = tmp_list[0]\n",
    "    for i in range(1, len(tmp_list)):\n",
    "        if tmp_list[i] == flag:\n",
    "            continue\n",
    "        cnt += 1\n",
    "        flag = tmp_list[i]\n",
    "\n",
    "print(cnt)"
   ]
  },
  {
   "cell_type": "code",
   "execution_count": null,
   "id": "ef8e2c4a",
   "metadata": {},
   "outputs": [],
   "source": [
    "# sol2\n",
    "\n",
    "n = int(input())\n",
    "cows = [-1] * 11\n",
    "cnt = 0\n",
    "\n",
    "for _ in range(n):\n",
    "    cow_idx, pos = map(int, input().split())\n",
    "    \n",
    "    if cows[cow_idx] == -1:\n",
    "        cows[cow_idx] = pos\n",
    "    else:\n",
    "        # 현재 관찰된 pos가 가장 마지막 pos와 다르면 갈아끼우기\n",
    "        # flag와 같이 따로 저장할 필요 X. 마지막값 하나만(pos) 저장 가능\n",
    "        if cows[cow_idx] != pos: \n",
    "            cnt += 1\n",
    "            cows[cow_idx] = pos "
   ]
  }
 ],
 "metadata": {
  "kernelspec": {
   "display_name": "Python 3",
   "language": "python",
   "name": "python3"
  },
  "language_info": {
   "codemirror_mode": {
    "name": "ipython",
    "version": 3
   },
   "file_extension": ".py",
   "mimetype": "text/x-python",
   "name": "python",
   "nbconvert_exporter": "python",
   "pygments_lexer": "ipython3",
   "version": "3.8.8"
  }
 },
 "nbformat": 4,
 "nbformat_minor": 5
}
