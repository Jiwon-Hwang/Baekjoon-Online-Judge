{
 "cells": [
  {
   "cell_type": "code",
   "execution_count": 10,
   "id": "95c41584",
   "metadata": {},
   "outputs": [
    {
     "name": "stdout",
     "output_type": "stream",
     "text": [
      "z o\n",
      "zoac\n",
      "8\n"
     ]
    }
   ],
   "source": [
    "sl, sr = input().split() # z, o\n",
    "string = input() # zoac\n",
    "\n",
    "keyboard = [\"qwertyuiop\", \"asdfghjkl\", \"zxcvbnm\"]\n",
    "\n",
    "def getXY(s):\n",
    "    for i in range(len(keyboard)):\n",
    "        tmp = keyboard[i].find(s)\n",
    "        if tmp == -1:\n",
    "            continue     \n",
    "        x, y = i, tmp\n",
    "            \n",
    "    return [x, y]\n",
    "\n",
    "\n",
    "time = len(string) # 4\n",
    "lx, ly = getXY(sl) # [2, 0] => 왼손(자음) 초기\n",
    "rx, ry = getXY(sr) # [0, 8] => 오른손(모음) 초기\n",
    "\n",
    "for s in string:\n",
    "    x, y = getXY(s) # 새로 칠 문자\n",
    "    # 모음\n",
    "    if y >= 5 or [x, y] == [2, 4]: # ***함정***\n",
    "        time += abs(rx-x) + abs(ry-y)\n",
    "        rx, ry = x, y\n",
    "    # 자음\n",
    "    else:\n",
    "        time += abs(lx-x) + abs(ly-y)\n",
    "        lx, ly = x, y\n",
    "    \n",
    "print(time)"
   ]
  },
  {
   "cell_type": "markdown",
   "id": "1bca5248",
   "metadata": {},
   "source": [
    "<hr>"
   ]
  },
  {
   "cell_type": "markdown",
   "id": "f5ba0b1b",
   "metadata": {},
   "source": [
    "find와 index 차이점"
   ]
  },
  {
   "cell_type": "code",
   "execution_count": 1,
   "id": "a9673e03",
   "metadata": {
    "scrolled": true
   },
   "outputs": [
    {
     "data": {
      "text/plain": [
       "['q', 'w', 'e', 'r']"
      ]
     },
     "execution_count": 1,
     "metadata": {},
     "output_type": "execute_result"
    }
   ],
   "source": [
    "list('qwer')"
   ]
  }
 ],
 "metadata": {
  "kernelspec": {
   "display_name": "Python 3",
   "language": "python",
   "name": "python3"
  },
  "language_info": {
   "codemirror_mode": {
    "name": "ipython",
    "version": 3
   },
   "file_extension": ".py",
   "mimetype": "text/x-python",
   "name": "python",
   "nbconvert_exporter": "python",
   "pygments_lexer": "ipython3",
   "version": "3.8.8"
  }
 },
 "nbformat": 4,
 "nbformat_minor": 5
}
