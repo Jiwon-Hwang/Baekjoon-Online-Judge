{
 "cells": [
  {
   "cell_type": "code",
   "execution_count": 2,
   "id": "7aa9b8f2",
   "metadata": {},
   "outputs": [
    {
     "name": "stdout",
     "output_type": "stream",
     "text": [
      "8 3\n",
      "0 0 0 0 0 0 0 0\n",
      "1 2 1\n",
      "1 4 1\n",
      "2 2 4\n",
      "0 0 1 0 0 0 0 0\n"
     ]
    }
   ],
   "source": [
    "n, m = map(int, input().split())\n",
    "s_list = list(map(int, input().split()))\n",
    "\n",
    "for _ in range(m):\n",
    "    a, b, c = map(int, input().split())\n",
    "    if a == 1:\n",
    "        s_list[b-1] = c\n",
    "    elif a == 2:\n",
    "        s_list[b-1:c] = [(s_list[i]+1)%2 for i in range(b-1, c)]\n",
    "    elif a == 3:\n",
    "        s_list[b-1:c] = [0] * (c-b+1)\n",
    "    else:\n",
    "        s_list[b-1:c] = [1] * (c-b+1)\n",
    "        \n",
    "print(*s_list)"
   ]
  }
 ],
 "metadata": {
  "kernelspec": {
   "display_name": "Python 3",
   "language": "python",
   "name": "python3"
  },
  "language_info": {
   "codemirror_mode": {
    "name": "ipython",
    "version": 3
   },
   "file_extension": ".py",
   "mimetype": "text/x-python",
   "name": "python",
   "nbconvert_exporter": "python",
   "pygments_lexer": "ipython3",
   "version": "3.8.8"
  }
 },
 "nbformat": 4,
 "nbformat_minor": 5
}
