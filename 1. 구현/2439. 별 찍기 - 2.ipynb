{
 "cells": [
  {
   "cell_type": "code",
   "execution_count": 2,
   "id": "06c8931d",
   "metadata": {
    "scrolled": true
   },
   "outputs": [
    {
     "name": "stdout",
     "output_type": "stream",
     "text": [
      "5\n",
      "    *\n",
      "   **\n",
      "  ***\n",
      " ****\n",
      "*****\n"
     ]
    }
   ],
   "source": [
    "# sol1) 공백 & end 이용\n",
    "n = int(input())\n",
    "\n",
    "for i in range(n):\n",
    "    print(' ' * (n-i-1), end='*'*(i+1)+'\\n')"
   ]
  },
  {
   "cell_type": "code",
   "execution_count": 4,
   "id": "6e1898ff",
   "metadata": {},
   "outputs": [
    {
     "name": "stdout",
     "output_type": "stream",
     "text": [
      "5\n",
      "    *\n",
      "   **\n",
      "  ***\n",
      " ****\n",
      "*****\n"
     ]
    }
   ],
   "source": [
    "# sol2) padding & 정렬 이용 ('{:>}'.format())\n",
    "n = int(input())\n",
    "\n",
    "for i in range(n):\n",
    "    print('{:>5}'.format('*'*(i+1))) # n이 5가 아니면 오답!"
   ]
  },
  {
   "cell_type": "code",
   "execution_count": 6,
   "id": "1c8e7992",
   "metadata": {},
   "outputs": [
    {
     "name": "stdout",
     "output_type": "stream",
     "text": [
      "5\n",
      "    *\n",
      "   **\n",
      "  ***\n",
      " ****\n",
      "*****\n"
     ]
    }
   ],
   "source": [
    "# sol3) padding & 정렬 이용 ('%s' % '')\n",
    "n = int(input())\n",
    "\n",
    "for i in range(n):\n",
    "    print('%5s' % ('*'*(i+1))) # 괄호 범위 주의, 오답!!"
   ]
  },
  {
   "cell_type": "code",
   "execution_count": 8,
   "id": "7c9d72a1",
   "metadata": {},
   "outputs": [
    {
     "name": "stdout",
     "output_type": "stream",
     "text": [
      "5\n",
      "    *\n",
      "   **\n",
      "  ***\n",
      " ****\n",
      "*****\n"
     ]
    }
   ],
   "source": [
    "# sol4) padding & 정렬 이용\n",
    "n = int(input())\n",
    "\n",
    "for i in range(n):\n",
    "    s = '*' * (i+1)\n",
    "    print(s.rjust(n))"
   ]
  }
 ],
 "metadata": {
  "kernelspec": {
   "display_name": "Python 3",
   "language": "python",
   "name": "python3"
  },
  "language_info": {
   "codemirror_mode": {
    "name": "ipython",
    "version": 3
   },
   "file_extension": ".py",
   "mimetype": "text/x-python",
   "name": "python",
   "nbconvert_exporter": "python",
   "pygments_lexer": "ipython3",
   "version": "3.8.8"
  }
 },
 "nbformat": 4,
 "nbformat_minor": 5
}
