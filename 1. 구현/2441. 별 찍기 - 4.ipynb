{
 "cells": [
  {
   "cell_type": "code",
   "execution_count": 6,
   "id": "9b6654ed",
   "metadata": {
    "scrolled": true
   },
   "outputs": [
    {
     "name": "stdout",
     "output_type": "stream",
     "text": [
      "5\n",
      "*****\n",
      " ****\n",
      "  ***\n",
      "   **\n",
      "    *\n"
     ]
    }
   ],
   "source": [
    "# sol1) 공백, + 연산자 이용\n",
    "n = int(input())\n",
    "\n",
    "for i in range(n):\n",
    "    print(' '*(i) + '*'*(n-i))"
   ]
  },
  {
   "cell_type": "code",
   "execution_count": 15,
   "id": "fc9058a2",
   "metadata": {},
   "outputs": [
    {
     "name": "stdout",
     "output_type": "stream",
     "text": [
      "5\n",
      "*****\n",
      " ****\n",
      "  ***\n",
      "   **\n",
      "    *\n"
     ]
    }
   ],
   "source": [
    "# sol2) string 메소드를 이용한 정렬\n",
    "n = int(input())\n",
    "\n",
    "for i in range(n):\n",
    "    s = '*' * (n-i)\n",
    "    print(s.rjust(n)) # 길이 n으로 고정 후 우측 정렬"
   ]
  },
  {
   "cell_type": "code",
   "execution_count": 2,
   "id": "bcbfa138",
   "metadata": {
    "scrolled": true
   },
   "outputs": [
    {
     "name": "stdout",
     "output_type": "stream",
     "text": [
      "5\n",
      "*****\n",
      " ****\n",
      "  ***\n",
      "   **\n",
      "    *\n"
     ]
    }
   ],
   "source": [
    "# 오답 (출력 형식이 잘못되었습니다)\n",
    "n = int(input())\n",
    "\n",
    "for i in range(n):\n",
    "    string = '*' * (n-i)\n",
    "    print('%5s' % string) # n이 5가 아닐 때는 오류!"
   ]
  },
  {
   "cell_type": "code",
   "execution_count": 3,
   "id": "8d57ec92",
   "metadata": {},
   "outputs": [
    {
     "name": "stdout",
     "output_type": "stream",
     "text": [
      "5\n",
      "*****\n",
      " ****\n",
      "  ***\n",
      "   **\n",
      "    *\n"
     ]
    }
   ],
   "source": [
    "# 오답 (출력 형식이 잘못되었습니다)\n",
    "n = int(input())\n",
    "\n",
    "for i in range(n):\n",
    "    print('{:>5}'.format('*' * (n-i))) # n이 5가 아닐 때는 오류!"
   ]
  },
  {
   "cell_type": "markdown",
   "id": "8a560116",
   "metadata": {},
   "source": [
    "### cf. 정렬 & 패딩 (by. formatting)\n",
    ">'' 안에 전체 길이를 **상수**로 지정해줘야 하므로,  \n",
    "n을 입력 받음으로써 전체 길이가 정해지는 경우엔 사용 X!  \n",
    "* '{:}'.format()\n",
    "* '%s' % ()"
   ]
  },
  {
   "cell_type": "markdown",
   "id": "9677d7c1",
   "metadata": {},
   "source": [
    "### cf. 정렬 & 패딩 (by. string 메소드)\n",
    "> * 영구 정렬이 아닌, 1회 출력용  \n",
    "> * **전체 길이를 변수로** 사용 (formatting과 달리)  \n",
    "* ''.ljust(lenth) # 좌측 정렬 출력\n",
    "* ''.rjust(lenth) # 우측 정렬 출력\n",
    "* ''.center(lenth) # 가운데 정렬 출력"
   ]
  },
  {
   "cell_type": "code",
   "execution_count": 11,
   "id": "8053c4a2",
   "metadata": {},
   "outputs": [
    {
     "data": {
      "text/plain": [
       "'가나다라   '"
      ]
     },
     "execution_count": 11,
     "metadata": {},
     "output_type": "execute_result"
    }
   ],
   "source": [
    "s = '가나다라'\n",
    "n = 7\n",
    "\n",
    "s.ljust(n) # 좌측 정렬"
   ]
  },
  {
   "cell_type": "code",
   "execution_count": 12,
   "id": "f5a8427f",
   "metadata": {},
   "outputs": [
    {
     "data": {
      "text/plain": [
       "'  가나다라 '"
      ]
     },
     "execution_count": 12,
     "metadata": {},
     "output_type": "execute_result"
    }
   ],
   "source": [
    "s.center(n) # 가운데 정렬"
   ]
  },
  {
   "cell_type": "code",
   "execution_count": 13,
   "id": "8d1f5b21",
   "metadata": {},
   "outputs": [
    {
     "data": {
      "text/plain": [
       "'   가나다라'"
      ]
     },
     "execution_count": 13,
     "metadata": {},
     "output_type": "execute_result"
    }
   ],
   "source": [
    "s.rjust(n) # 우측 정렬"
   ]
  }
 ],
 "metadata": {
  "kernelspec": {
   "display_name": "Python 3",
   "language": "python",
   "name": "python3"
  },
  "language_info": {
   "codemirror_mode": {
    "name": "ipython",
    "version": 3
   },
   "file_extension": ".py",
   "mimetype": "text/x-python",
   "name": "python",
   "nbconvert_exporter": "python",
   "pygments_lexer": "ipython3",
   "version": "3.8.8"
  }
 },
 "nbformat": 4,
 "nbformat_minor": 5
}
