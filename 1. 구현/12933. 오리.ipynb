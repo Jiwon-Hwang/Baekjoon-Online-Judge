{
 "cells": [
  {
   "cell_type": "code",
   "execution_count": null,
   "id": "f3a826be",
   "metadata": {},
   "outputs": [],
   "source": [
    "# q u a c k"
   ]
  },
  {
   "cell_type": "code",
   "execution_count": 24,
   "id": "67b4305d",
   "metadata": {},
   "outputs": [
    {
     "name": "stdout",
     "output_type": "stream",
     "text": [
      "quqaquuacakcqckkuaquckqauckack\n",
      "3\n"
     ]
    }
   ],
   "source": [
    "sound = input()\n",
    "\n",
    "def func(sound):\n",
    "    duck_list = []\n",
    "    quack_dict = {'q' : 0, 'u' : 1, 'a' : 2, 'c' : 3, 'k' : 4}\n",
    "    recycle_cnt = 0 # 재사용 가능한 오리 몇 마리 있는지 체크\n",
    "    \n",
    "    if sound[0] != 'q':\n",
    "        return -1\n",
    "    else:\n",
    "        duck_list.append('q')\n",
    "        for now in sound[1:]:\n",
    "\n",
    "            if now == 'q':\n",
    "                if not recycle_cnt: # 재활용 가능한 완성오리 없으면\n",
    "                    duck_list.append('q')\n",
    "                    continue\n",
    "                else: # 재활용 가능한 완성오리 있으면 pop하고 재사용\n",
    "                    for i in range(len(duck_list)):\n",
    "                        if duck_list[i] == \"quack\":\n",
    "                            duck_list[i] = 'q' # 재사용\n",
    "                            recycle_cnt -= 1\n",
    "                            break\n",
    "                continue\n",
    "            \n",
    "            isExist = False\n",
    "            for i in range(len(duck_list)):\n",
    "                if quack_dict[duck_list[i][-1]] == quack_dict[now] - 1:\n",
    "                    duck_list[i] += now\n",
    "                    isExist = True\n",
    "                    if now == 'k':\n",
    "                        recycle_cnt += 1\n",
    "                    break\n",
    "            if not isExist:\n",
    "                return -1\n",
    "                \n",
    "    \n",
    "    duck_num = duck_list.count(\"quack\")\n",
    "    if duck_num != len(duck_list) or len(duck_list) == 0:\n",
    "        return -1\n",
    "    return duck_num\n",
    "    \n",
    "print(func(sound))"
   ]
  },
  {
   "cell_type": "markdown",
   "id": "5a11a429",
   "metadata": {},
   "source": [
    "<hr>"
   ]
  },
  {
   "cell_type": "code",
   "execution_count": 7,
   "id": "e715c627",
   "metadata": {},
   "outputs": [
    {
     "name": "stdout",
     "output_type": "stream",
     "text": [
      "\n",
      "quqacukqauackck\n",
      "acukqauackck\n",
      "acukqauackck\n"
     ]
    }
   ],
   "source": [
    "test = \"quqacukqauackck\"\n",
    "print(test.lstrip(\"quack\"))\n",
    "print(test)\n",
    "print(test.lstrip(\"qu\"))\n",
    "test = test.lstrip(\"qu\")\n",
    "print(test)"
   ]
  },
  {
   "cell_type": "code",
   "execution_count": 9,
   "id": "c7ddda9a",
   "metadata": {},
   "outputs": [
    {
     "name": "stdout",
     "output_type": "stream",
     "text": [
      "quqacukqaua\n"
     ]
    }
   ],
   "source": [
    "test = \"quqacukqauackck\"\n",
    "print(test.replace(\"ck\", \"\"))"
   ]
  }
 ],
 "metadata": {
  "kernelspec": {
   "display_name": "Python 3",
   "language": "python",
   "name": "python3"
  },
  "language_info": {
   "codemirror_mode": {
    "name": "ipython",
    "version": 3
   },
   "file_extension": ".py",
   "mimetype": "text/x-python",
   "name": "python",
   "nbconvert_exporter": "python",
   "pygments_lexer": "ipython3",
   "version": "3.8.8"
  }
 },
 "nbformat": 4,
 "nbformat_minor": 5
}
