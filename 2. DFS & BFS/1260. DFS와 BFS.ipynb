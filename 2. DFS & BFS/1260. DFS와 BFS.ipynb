{
 "cells": [
  {
   "cell_type": "markdown",
   "id": "09cf2267",
   "metadata": {},
   "source": [
    "## 그래프 입력 받기 (그래프 구현 방식 2가지)\n",
    "\n",
    "### 1. 인접 행렬\n",
    "2차원 배열으로 표현하는 방식  \n",
    "\n",
    "```python\n",
    "graph = [\n",
    "    [0, 1, 1, 0],\n",
    "    [1, 0, 1, 1],\n",
    "    [1, 1, 0, 0],\n",
    "    [0, 1, 0, 0]\n",
    "]\n",
    "```\n",
    "\n",
    "### 2. 인접 리스트\n",
    "연결 리스트로 표현하는 방식  \n",
    "\n",
    "* 2차원 list로 저장  \n",
    "  \n",
    "```python\n",
    "graph = [\n",
    "    [],\n",
    "    [2, 3, 8], # 1번 노드\n",
    "    [1, 7],\n",
    "    [1, 4, 5],\n",
    "    [3, 5],\n",
    "    [3, 4],\n",
    "    [7],\n",
    "    [2, 6, 8],\n",
    "    [1, 7]\n",
    "]\n",
    "\n",
    "```\n",
    "   \n",
    "* dictionary로 저장\n",
    "\n",
    "```python\n",
    "graph = {\n",
    "    'A' : ['B'],\n",
    "    'B' : ['A', 'C', 'H'],\n",
    "    ...\n",
    "}\n",
    "```   "
   ]
  },
  {
   "cell_type": "code",
   "execution_count": 1,
   "id": "e733ad97",
   "metadata": {},
   "outputs": [
    {
     "name": "stdout",
     "output_type": "stream",
     "text": [
      "4 5 1\n",
      "1 2\n",
      "1 3\n",
      "1 4\n",
      "2 4\n",
      "3 4\n",
      "1 2 4 3 \n",
      "1 2 3 4 "
     ]
    }
   ],
   "source": [
    "# sol1) 인접 행렬 & 재귀(dfs) & 큐(bfs)\n",
    "from collections import deque\n",
    "import sys\n",
    "\n",
    "sys.setrecursionlimit(1000000) # 파이썬 기본 재귀 깊이 제한 늘리기 (런타임 에러 방지)\n",
    "\n",
    "\n",
    "n, m, v = map(int, input().split()) # 정점 개수, 간선 개수, 탐색 시작 노드\n",
    "graph = [[0] * (n+1) for _ in range(n+1)] # 인접 행렬로 그래프 저장 (0으로 초기화)\n",
    "visited_dfs = [False] * (n+1) # list에서 append 후 in으로 체크하는 것보다 빠름\n",
    "visited_bfs = [False] * (n+1)\n",
    "\n",
    "# 그래프 입력받기 (인접 행렬)\n",
    "for _ in range(m):\n",
    "    start, end = map(int, input().split())\n",
    "    graph[start][end] = 1\n",
    "    graph[end][start] = 1\n",
    "    \n",
    "\n",
    "# dfs, bfs 함수 정의 - 여기서 print\n",
    "def dfs(v):\n",
    "    print(v, end = \" \")         # 방문 시작 노드 출력 먼저! (재귀 & 앞부터 출력하기 위함)\n",
    "    for i in range(1, n+1):     # 숫자 작은 것부터 탐색\n",
    "        # i가 v와 연결된 노드고, 이전에 방문한 적은 없었다면 => True로 바꾸고 시작노드로 ㄱㄱ\n",
    "        if graph[v][i] == 1 and visited_dfs[i] == False: \n",
    "            visited_dfs[i] = True\n",
    "            dfs(i) # 2->4->3\n",
    "                \n",
    "def bfs(v):\n",
    "    q = deque()\n",
    "    q.append(v) \n",
    "    \n",
    "    # 큐가 빌 때까지 반복\n",
    "    while q:\n",
    "        n = q.popleft() # FIFO\n",
    "        if visited_bfs[n] == False:    # 이전에 방문한 적이 없다면\n",
    "            visited_bfs[n] = True      # True로 바꾸고 바로 방문\n",
    "            print(n, end = \" \")        # 방문 시작 노드 출력 \n",
    "            for i in range(1, n+1):    # 숫자 작은 것부터 탐색\n",
    "                # i가 v와 연결된 노드고, 이전에 방문한 적은 없었다면 => 큐에 차례대로 추가\n",
    "                if graph[n][i] == 1 and visited_bfs[i] == False:\n",
    "                    q.append(i)\n",
    "            \n",
    "\n",
    "visited_dfs[v] = True # 탐색 시작 노드 방문\n",
    "dfs(v)\n",
    "print()\n",
    "bfs(v)"
   ]
  },
  {
   "cell_type": "code",
   "execution_count": null,
   "id": "c0758e00",
   "metadata": {},
   "outputs": [],
   "source": [
    "# sol2) 인접 리스트 & 스택(dfs) & 큐(bfs)\n",
    "\n",
    "from collections import deque\n",
    "\n",
    "\n",
    "n, m, v = map(int, input().split()) # 정점 개수, 간선 개수, 탐색 시작 노드\n",
    "graph = {i:[] for i in range(1, n+1)} # 인접 행렬로 그래프 저장\n",
    "#visited_dfs = [] # list로 정의 후 append, in 이용 시 O(N)\n",
    "#visited_bfs = []\n",
    "\n",
    "# 그래프 입력받기 (인접 리스트)\n",
    "for _ in range(m+1):\n",
    "    start, end = map(int, input().split())\n",
    "    graph[start].append(end)\n",
    "    graph[end].append(start)\n",
    "    \n",
    "for key in graph:\n",
    "    graph[key].sort() # 오름차순 정렬\n",
    "    \n",
    "\n",
    "# dfs, bfs 정의 - dict로 return\n",
    "def dfs(graph, v):\n",
    "    visited = {} # list에 비해 시간 단축 (dict)\n",
    "    stack = [v]\n",
    "    \n",
    "    while stack:\n",
    "        n = stack.pop()\n",
    "        if n not in visited: # O(1)\n",
    "            visited.setdefault(n)\n",
    "            stack += reversed(graph[n])\n",
    "    return visited\n",
    "\n",
    "def bfs(graph, v):\n",
    "    visited = {}\n",
    "    queue = deque([v])\n",
    "    \n",
    "    while queue:\n",
    "        n = queue.popleft()\n",
    "        if n not in visited:\n",
    "            visited.setdefault(n)\n",
    "            queue += graph[n]\n",
    "    return visited\n",
    "\n",
    "print(' '.join(list(map(str,dfs(graph, v)))))\n",
    "print(' '.join(list(map(str,bfs(graph, v)))))"
   ]
  },
  {
   "cell_type": "markdown",
   "id": "94d0f174",
   "metadata": {},
   "source": [
    "<hr>"
   ]
  },
  {
   "cell_type": "markdown",
   "id": "8c0d960c",
   "metadata": {},
   "source": [
    "cf. python 기본 문법"
   ]
  },
  {
   "cell_type": "code",
   "execution_count": null,
   "id": "328d5383",
   "metadata": {
    "scrolled": false
   },
   "outputs": [],
   "source": [
    "print(input().split())"
   ]
  },
  {
   "cell_type": "code",
   "execution_count": null,
   "id": "fc26e800",
   "metadata": {},
   "outputs": [],
   "source": [
    "print(list(map(int, input().split())))"
   ]
  },
  {
   "cell_type": "code",
   "execution_count": null,
   "id": "00d92d0e",
   "metadata": {
    "scrolled": false
   },
   "outputs": [],
   "source": [
    "print([0] * 10)"
   ]
  },
  {
   "cell_type": "code",
   "execution_count": null,
   "id": "ace0bf1b",
   "metadata": {},
   "outputs": [],
   "source": [
    "graph = [[] for _ in range(10)]\n",
    "print(graph[0])"
   ]
  },
  {
   "cell_type": "code",
   "execution_count": null,
   "id": "f099c226",
   "metadata": {},
   "outputs": [],
   "source": [
    "graph = [[0]*10 for _ in range(10)]\n",
    "print(graph[0])"
   ]
  },
  {
   "cell_type": "code",
   "execution_count": null,
   "id": "bd91ae24",
   "metadata": {},
   "outputs": [],
   "source": [
    "# 초기화\n",
    "deque1 = deque()\n",
    "print(deque1)\n",
    "\n",
    "deque2 = deque([])\n",
    "print(deque2)\n",
    "\n",
    "deque3 = deque([1]) \n",
    "print(deque3)"
   ]
  },
  {
   "cell_type": "code",
   "execution_count": null,
   "id": "44e35021",
   "metadata": {},
   "outputs": [],
   "source": [
    "# 값 추가 (뒤에 추가)\n",
    "deque1.append(10) \n",
    "print(deque1)\n",
    "\n",
    "deque1.append([20])\n",
    "print(deque1)\n",
    "\n",
    "deque2.append(30)\n",
    "print(deque2)"
   ]
  }
 ],
 "metadata": {
  "kernelspec": {
   "display_name": "Python 3",
   "language": "python",
   "name": "python3"
  },
  "language_info": {
   "codemirror_mode": {
    "name": "ipython",
    "version": 3
   },
   "file_extension": ".py",
   "mimetype": "text/x-python",
   "name": "python",
   "nbconvert_exporter": "python",
   "pygments_lexer": "ipython3",
   "version": "3.8.8"
  }
 },
 "nbformat": 4,
 "nbformat_minor": 5
}
