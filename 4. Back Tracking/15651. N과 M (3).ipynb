{
 "cells": [
  {
   "cell_type": "code",
   "execution_count": 5,
   "id": "2931ebf3",
   "metadata": {},
   "outputs": [
    {
     "name": "stdout",
     "output_type": "stream",
     "text": [
      "4 2\n",
      "1 1\n",
      "1 2\n",
      "1 3\n",
      "1 4\n",
      "2 1\n",
      "2 2\n",
      "2 3\n",
      "2 4\n",
      "3 1\n",
      "3 2\n",
      "3 3\n",
      "3 4\n",
      "4 1\n",
      "4 2\n",
      "4 3\n",
      "4 4\n"
     ]
    }
   ],
   "source": [
    "## Backtracking\n",
    "## Baekjoon 15651 N과 M(3)\n",
    "## https://www.acmicpc.net/problem/15651\n",
    "\n",
    "from itertools import product # 중복 순열\n",
    "\n",
    "n, m = map(int, input().split())\n",
    "\n",
    "for i in product(range(1, n+1), repeat = m): # product는 꼭 repeat!!\n",
    "    print(' '.join(map(str, i)))"
   ]
  }
 ],
 "metadata": {
  "kernelspec": {
   "display_name": "Python 3",
   "language": "python",
   "name": "python3"
  },
  "language_info": {
   "codemirror_mode": {
    "name": "ipython",
    "version": 3
   },
   "file_extension": ".py",
   "mimetype": "text/x-python",
   "name": "python",
   "nbconvert_exporter": "python",
   "pygments_lexer": "ipython3",
   "version": "3.8.8"
  }
 },
 "nbformat": 4,
 "nbformat_minor": 5
}
