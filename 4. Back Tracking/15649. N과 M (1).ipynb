{
 "cells": [
  {
   "cell_type": "code",
   "execution_count": null,
   "id": "85d6e947",
   "metadata": {},
   "outputs": [],
   "source": [
    "## Backtracking\n",
    "## Baekjoon 15649 N과 M(1)\n",
    "## https://www.acmicpc.net/problem/15649\n",
    "\n",
    "# sol1) back tracking (recursion)\n",
    "N, M = map(int, input().split())\n",
    "result = list()\n",
    "\n",
    "def func():\n",
    "    if len(result) == M:\n",
    "        print(' '.join(map(str, result)))\n",
    "        return\n",
    "    for i in range(1, N+1):\n",
    "        if i not in result:\n",
    "            result.append(i)\n",
    "            func()\n",
    "            result.pop()\n",
    "\n",
    "func()"
   ]
  },
  {
   "cell_type": "code",
   "execution_count": 5,
   "id": "a487ad4a",
   "metadata": {},
   "outputs": [
    {
     "name": "stdout",
     "output_type": "stream",
     "text": [
      "4 2\n",
      "1 2 \n",
      "1 3 \n",
      "1 4 \n",
      "2 1 \n",
      "2 3 \n",
      "2 4 \n",
      "3 1 \n",
      "3 2 \n",
      "3 4 \n",
      "4 1 \n",
      "4 2 \n",
      "4 3 \n"
     ]
    }
   ],
   "source": [
    "# sol2) itertools - permutations (순열)\n",
    "from itertools import permutations\n",
    "\n",
    "n, m = map(int, input().split())\n",
    "\n",
    "for i in permutations(range(1, n+1), m):\n",
    "    # int로 출력\n",
    "    for j in i:\n",
    "        print(j, end=' ')\n",
    "    print()"
   ]
  },
  {
   "cell_type": "code",
   "execution_count": 6,
   "id": "e5b7be1f",
   "metadata": {},
   "outputs": [
    {
     "name": "stdout",
     "output_type": "stream",
     "text": [
      "4 2\n",
      "1 2\n",
      "1 3\n",
      "1 4\n",
      "2 1\n",
      "2 3\n",
      "2 4\n",
      "3 1\n",
      "3 2\n",
      "3 4\n",
      "4 1\n",
      "4 2\n",
      "4 3\n"
     ]
    }
   ],
   "source": [
    "from itertools import permutations\n",
    "\n",
    "n, m = map(int, input().split())\n",
    "\n",
    "for i in permutations(range(1, n+1), m):\n",
    "    # str로 출력\n",
    "    print(' '.join(map(str, i)))"
   ]
  }
 ],
 "metadata": {
  "kernelspec": {
   "display_name": "Python 3",
   "language": "python",
   "name": "python3"
  },
  "language_info": {
   "codemirror_mode": {
    "name": "ipython",
    "version": 3
   },
   "file_extension": ".py",
   "mimetype": "text/x-python",
   "name": "python",
   "nbconvert_exporter": "python",
   "pygments_lexer": "ipython3",
   "version": "3.8.8"
  }
 },
 "nbformat": 4,
 "nbformat_minor": 5
}
