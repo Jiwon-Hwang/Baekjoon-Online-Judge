{
 "cells": [
  {
   "cell_type": "code",
   "execution_count": null,
   "id": "85d6e947",
   "metadata": {},
   "outputs": [],
   "source": [
    "## Backtracking\n",
    "## Baekjoon 15649 N과 M(1)\n",
    "## https://www.acmicpc.net/problem/15649\n",
    "\n",
    "N, M = map(int, input().split())\n",
    "result = list()\n",
    "\n",
    "def func():\n",
    "    if len(result) == M:\n",
    "        print(' '.join(map(str, result)))\n",
    "        return\n",
    "    for i in range(1, N+1):\n",
    "        if i not in result:\n",
    "            result.append(i)\n",
    "            func()\n",
    "            result.pop()\n",
    "\n",
    "func()"
   ]
  },
  {
   "cell_type": "code",
   "execution_count": null,
   "id": "47873825",
   "metadata": {},
   "outputs": [],
   "source": []
  }
 ],
 "metadata": {
  "kernelspec": {
   "display_name": "Python 3",
   "language": "python",
   "name": "python3"
  },
  "language_info": {
   "codemirror_mode": {
    "name": "ipython",
    "version": 3
   },
   "file_extension": ".py",
   "mimetype": "text/x-python",
   "name": "python",
   "nbconvert_exporter": "python",
   "pygments_lexer": "ipython3",
   "version": "3.8.8"
  }
 },
 "nbformat": 4,
 "nbformat_minor": 5
}
