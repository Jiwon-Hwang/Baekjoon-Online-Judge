{
 "cells": [
  {
   "cell_type": "code",
   "execution_count": 5,
   "id": "fcb6b90b",
   "metadata": {},
   "outputs": [
    {
     "name": "stdout",
     "output_type": "stream",
     "text": [
      "8\n",
      "92\n"
     ]
    }
   ],
   "source": [
    "## Backtracking\n",
    "## Baekjoon 9663 N-Queen\n",
    "## https://www.acmicpc.net/problem/9663\n",
    "\n",
    "# sol1) 재귀\n",
    "# python3 오답 (시간 초과) & pypy3 정답 (30044ms)\n",
    "\n",
    "n = int(input())\n",
    "queen = [0 for _ in range(n)] # 각 행마다의 퀸의 위치(열)\n",
    "cnt = 0\n",
    "\n",
    "# 해당 행에 퀸을 놓을 수 있는 곳이 있는지(유망한지) 현재 queen 배열 상태 체크\n",
    "def isPromising(row):\n",
    "    # 체크하려는 행의 이전 행까지만 체크\n",
    "    for i in range(row):\n",
    "        # 퀸을 놓을 수 없는 경우 2가지 (유망 x)\n",
    "        # 1. 같은 열에 위치한 퀸이 있거나 or 2. 왼쪽 위 or 오른쪽 위 대각선에 퀸이 있거나\n",
    "        if queen[row] == queen[i] or abs(queen[row] - queen[i]) == row - i:\n",
    "            return False\n",
    "    return True\n",
    "\n",
    "# 행 단위로 퀸 추가\n",
    "def dfs(row):\n",
    "    # 마지막 행까지 모두 유망해서 퀸을 둘 수 있었다면 (퀸 총 n개 모두 두기 성공)\n",
    "    if row == n:\n",
    "        global cnt # 전역 변수 접근\n",
    "        cnt += 1\n",
    "        return\n",
    "    \n",
    "    # 각 행에서 열 단위로 퀸 이동 (모든 열 중에 배치 가능한 곳이 있는지 체크)\n",
    "    for col in range(n):\n",
    "        queen[row] = col # [row][col]에 퀸 배치 (0->1->2->3 위치로 이동)\n",
    "        if isPromising(row):\n",
    "            dfs(row+1) # 다음 행으로 ㄱㄱ\n",
    "            \n",
    "dfs(0)\n",
    "print(cnt)"
   ]
  },
  {
   "cell_type": "code",
   "execution_count": 10,
   "id": "26d90a35",
   "metadata": {},
   "outputs": [
    {
     "name": "stdout",
     "output_type": "stream",
     "text": [
      "8\n",
      "92\n"
     ]
    }
   ],
   "source": [
    "# sol2) 재귀 + visited\n",
    "# python3 오답 (시간 초과) & pypy3 정답 (13428ms)\n",
    "\n",
    "n = int(input())\n",
    "queen = [0 for _ in range(n)] # 각 행마다의 퀸의 위치(열)\n",
    "visited = [False for _ in range(n)]\n",
    "cnt = 0\n",
    "\n",
    "# 해당 행에 퀸을 놓을 수 있는 곳이 있는지(유망한지) 현재 queen 배열 상태 체크\n",
    "def isPromising(row):\n",
    "    # 체크하려는 행의 이전 행까지만 체크\n",
    "    for i in range(row):\n",
    "        # 퀸을 놓을 수 없는 경우 2가지 (유망 x)\n",
    "        # 1. 같은 열에 위치한 퀸이 있거나 or 2. 왼쪽 위 or 오른쪽 위 대각선에 퀸이 있거나\n",
    "        if queen[row] == queen[i] or abs(queen[row] - queen[i]) == row - i:\n",
    "            return False\n",
    "    return True\n",
    "\n",
    "# 행 단위로 퀸 추가\n",
    "def dfs(row):\n",
    "    # 마지막 행까지 모두 유망해서 퀸을 둘 수 있었다면 (퀸 총 n개 모두 두기 성공)\n",
    "    if row == n:\n",
    "        global cnt # 전역 변수 접근\n",
    "        cnt += 1\n",
    "        return\n",
    "    \n",
    "    # 각 행에서 열 단위로 퀸 이동 (모든 열 중에 배치 가능한 곳이 있는지 체크)\n",
    "    for col in range(n):\n",
    "        \n",
    "        # ***중복 방문 제거!!***\n",
    "        if visited[col]:\n",
    "            continue\n",
    "        \n",
    "        queen[row] = col # [row][col]에 퀸 배치 (0->1->2->3 위치로 이동)\n",
    "        if isPromising(row):\n",
    "            visited[col] = True\n",
    "            dfs(row+1) # 다음 행으로 ㄱㄱ\n",
    "            visited[col] = False\n",
    "            \n",
    "dfs(0)\n",
    "print(cnt)"
   ]
  },
  {
   "cell_type": "markdown",
   "id": "09df534f",
   "metadata": {},
   "source": [
    "<hr>"
   ]
  },
  {
   "cell_type": "code",
   "execution_count": null,
   "id": "e2502fe8",
   "metadata": {},
   "outputs": [],
   "source": [
    "# queen = [0, 2, 1, 3] => 퀸이 각 행마다 0, 2, 1, 3열에 놓여져 있는 상태"
   ]
  },
  {
   "cell_type": "code",
   "execution_count": 8,
   "id": "a05089d8",
   "metadata": {},
   "outputs": [
    {
     "name": "stdout",
     "output_type": "stream",
     "text": [
      "[0, 0, 0, 0]\n",
      "[0, 0, 0, 0]\n"
     ]
    }
   ],
   "source": [
    "# 초기화 방법\n",
    "\n",
    "print([0]*4)\n",
    "print([0 for _ in range(4)])"
   ]
  }
 ],
 "metadata": {
  "kernelspec": {
   "display_name": "Python 3",
   "language": "python",
   "name": "python3"
  },
  "language_info": {
   "codemirror_mode": {
    "name": "ipython",
    "version": 3
   },
   "file_extension": ".py",
   "mimetype": "text/x-python",
   "name": "python",
   "nbconvert_exporter": "python",
   "pygments_lexer": "ipython3",
   "version": "3.8.8"
  }
 },
 "nbformat": 4,
 "nbformat_minor": 5
}
