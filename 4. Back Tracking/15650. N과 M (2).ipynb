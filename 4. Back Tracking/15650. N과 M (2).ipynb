{
 "cells": [
  {
   "cell_type": "code",
   "execution_count": null,
   "id": "85d6e947",
   "metadata": {},
   "outputs": [],
   "source": [
    "## Backtracking\n",
    "## Baekjoon 15649 N과 M(2)\n",
    "## https://www.acmicpc.net/problem/15650\n",
    "\n",
    "n, m = map(int, input().split())\n",
    "\n",
    "result = []\n",
    "\n",
    "def dfs(k):\n",
    "    if len(result) == m:\n",
    "        print(' '.join(map(str, result)))\n",
    "\n",
    "    for i in range(k, n+1):\n",
    "        if i not in result:\n",
    "            result.append(i)\n",
    "            dfs(i+1) # 다음 값부터 dfs 돌도록 넣기!\n",
    "            result.pop()\n",
    "\n",
    "dfs(1)"
   ]
  }
 ],
 "metadata": {
  "kernelspec": {
   "display_name": "Python 3",
   "language": "python",
   "name": "python3"
  },
  "language_info": {
   "codemirror_mode": {
    "name": "ipython",
    "version": 3
   },
   "file_extension": ".py",
   "mimetype": "text/x-python",
   "name": "python",
   "nbconvert_exporter": "python",
   "pygments_lexer": "ipython3",
   "version": "3.8.8"
  }
 },
 "nbformat": 4,
 "nbformat_minor": 5
}
