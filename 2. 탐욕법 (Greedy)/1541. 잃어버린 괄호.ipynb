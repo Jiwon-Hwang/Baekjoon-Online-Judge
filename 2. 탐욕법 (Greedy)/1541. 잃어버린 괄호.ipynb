{
 "cells": [
  {
   "cell_type": "code",
   "execution_count": 8,
   "id": "d3ce1218",
   "metadata": {},
   "outputs": [
    {
     "name": "stdout",
     "output_type": "stream",
     "text": [
      "55+10-50+40-10\n",
      "-35\n"
     ]
    }
   ],
   "source": [
    "sik = input()\n",
    "arr = sik.split('-')\n",
    "result = 0\n",
    "\n",
    "for n in arr.pop(0).split('+'): # 맨 첫번째만 더하고, 이후부턴 다 빼기위해 pop\n",
    "    result += int(n)\n",
    "    \n",
    "for n in arr:\n",
    "    for nn in n.split('+'):\n",
    "        result -= int(nn)\n",
    "\n",
    "print(result)"
   ]
  }
 ],
 "metadata": {
  "kernelspec": {
   "display_name": "Python 3",
   "language": "python",
   "name": "python3"
  },
  "language_info": {
   "codemirror_mode": {
    "name": "ipython",
    "version": 3
   },
   "file_extension": ".py",
   "mimetype": "text/x-python",
   "name": "python",
   "nbconvert_exporter": "python",
   "pygments_lexer": "ipython3",
   "version": "3.8.8"
  }
 },
 "nbformat": 4,
 "nbformat_minor": 5
}
