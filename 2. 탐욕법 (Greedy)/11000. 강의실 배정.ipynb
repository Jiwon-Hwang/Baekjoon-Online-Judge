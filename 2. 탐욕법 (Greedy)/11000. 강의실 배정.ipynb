{
 "cells": [
  {
   "cell_type": "code",
   "execution_count": 6,
   "id": "f9265475",
   "metadata": {},
   "outputs": [
    {
     "name": "stdout",
     "output_type": "stream",
     "text": [
      "4\n",
      "1 3 \n",
      "3 5\n",
      "3 4\n",
      "2 7\n",
      "[(1, 3), (2, 7), (3, 4), (3, 5)]\n"
     ]
    }
   ],
   "source": [
    "n = int(input())\n",
    "time_table = sorted([tuple(map(int, input().split())) for _ in range(n)])\n",
    "print(time_table)\n",
    "cnt = 0\n",
    "room = []\n",
    "for sooup in time_table:\n",
    "    continue"
   ]
  }
 ],
 "metadata": {
  "kernelspec": {
   "display_name": "Python 3",
   "language": "python",
   "name": "python3"
  },
  "language_info": {
   "codemirror_mode": {
    "name": "ipython",
    "version": 3
   },
   "file_extension": ".py",
   "mimetype": "text/x-python",
   "name": "python",
   "nbconvert_exporter": "python",
   "pygments_lexer": "ipython3",
   "version": "3.8.8"
  }
 },
 "nbformat": 4,
 "nbformat_minor": 5
}
