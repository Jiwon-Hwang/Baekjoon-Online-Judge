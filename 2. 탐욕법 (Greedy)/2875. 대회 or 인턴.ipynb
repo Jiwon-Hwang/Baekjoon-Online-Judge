{
 "cells": [
  {
   "cell_type": "code",
   "execution_count": null,
   "id": "98f5ea4b",
   "metadata": {},
   "outputs": [],
   "source": [
    "n, m, k = map(int, input().split())\n",
    "\n"
   ]
  },
  {
   "cell_type": "code",
   "execution_count": null,
   "id": "18685fb8",
   "metadata": {},
   "outputs": [],
   "source": [
    "# 6 7 2 \n",
    "# 6//2(2명씩)=3(최대 3팀), 7-3(최대 총 남자 3명 참가)*1 = 4\n",
    "\n",
    "# 6 3 2\n",
    "#\n",
    "\n",
    "# 6 2 2\n",
    "# "
   ]
  }
 ],
 "metadata": {
  "kernelspec": {
   "display_name": "Python 3",
   "language": "python",
   "name": "python3"
  },
  "language_info": {
   "codemirror_mode": {
    "name": "ipython",
    "version": 3
   },
   "file_extension": ".py",
   "mimetype": "text/x-python",
   "name": "python",
   "nbconvert_exporter": "python",
   "pygments_lexer": "ipython3",
   "version": "3.8.8"
  }
 },
 "nbformat": 4,
 "nbformat_minor": 5
}
