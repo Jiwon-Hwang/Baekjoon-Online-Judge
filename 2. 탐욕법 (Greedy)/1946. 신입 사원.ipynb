{
 "cells": [
  {
   "cell_type": "code",
   "execution_count": null,
   "id": "fda08890",
   "metadata": {},
   "outputs": [],
   "source": [
    "# 정답\n",
    "import sys\n",
    "input = sys.stdin.readline # 안해주면 시간초과\n",
    "\n",
    "t = int(input())\n",
    "for _ in range(t):\n",
    "    n = int(input())\n",
    "    scores = []\n",
    "    \n",
    "    for i in range(n):\n",
    "        a, b = map(int, input().split())\n",
    "        scores.append((a, b))\n",
    "    \n",
    "    tmp_max = 0\n",
    "    cnt = 0\n",
    "    scores.sort(key = lambda x : x[0]) # 정렬 후 완전 탐색 (tmp_max와 비교)\n",
    "    for i in range(n):\n",
    "        if i == 0 or scores[i][1] < tmp_max:\n",
    "            cnt += 1\n",
    "            tmp_max = scores[i][1]\n",
    "    print(cnt)"
   ]
  },
  {
   "cell_type": "code",
   "execution_count": null,
   "id": "cb7e4246",
   "metadata": {},
   "outputs": [],
   "source": [
    "1 4 -> o\n",
    "2 3 -> o\n",
    "3 2 -> o\n",
    "4 1 -> o\n",
    "5 5 -> x"
   ]
  },
  {
   "cell_type": "code",
   "execution_count": null,
   "id": "cc62e471",
   "metadata": {},
   "outputs": [],
   "source": [
    "1 4 -> o\n",
    "2 5 -> x\n",
    "3 6 -> x\n",
    "4 2 -> o (만약 4 5 면 x)\n",
    "5 7 -> x\n",
    "6 1 -> o\n",
    "7 3 -> x"
   ]
  }
 ],
 "metadata": {
  "kernelspec": {
   "display_name": "Python 3 (ipykernel)",
   "language": "python",
   "name": "python3"
  },
  "language_info": {
   "codemirror_mode": {
    "name": "ipython",
    "version": 3
   },
   "file_extension": ".py",
   "mimetype": "text/x-python",
   "name": "python",
   "nbconvert_exporter": "python",
   "pygments_lexer": "ipython3",
   "version": "3.9.12"
  }
 },
 "nbformat": 4,
 "nbformat_minor": 5
}
