{
 "cells": [
  {
   "cell_type": "code",
   "execution_count": 9,
   "id": "594339be",
   "metadata": {},
   "outputs": [
    {
     "name": "stdout",
     "output_type": "stream",
     "text": [
      "7\n",
      "4 4 9 1 9 4 4\n",
      "54\n"
     ]
    }
   ],
   "source": [
    "n = int(input())\n",
    "honey = list(map(int, input().split()))\n",
    "\n",
    "# 누적합 구해놓기\n",
    "nujuck = [honey[0]]\n",
    "for i in range(1, n):\n",
    "    nujuck.append(nujuck[-1]+honey[i])\n",
    "    \n",
    "total = 0\n",
    "# 1. 통\"벌\"벌 => [0][1~n-2][-1]\n",
    "for i in range(1, n-1):\n",
    "    total = max(total, nujuck[n-2]-honey[i]+nujuck[i-1])\n",
    "    \n",
    "# 2. 벌\"벌\"통 => [0][1~n-2][-1]\n",
    "for i in range(1, n-1):\n",
    "    total = max(total, nujuck[-1]-honey[0]-honey[i]+nujuck[-1]-nujuck[i])\n",
    "    \n",
    "# 3. 벌\"통\"벌 => [0][1~n-2][-1]\n",
    "for i in range(1, n-1):\n",
    "    total = max(total, nujuck[i]-honey[0]+nujuck[-1]-nujuck[i-1]-honey[-1])\n",
    "    \n",
    "print(total)"
   ]
  }
 ],
 "metadata": {
  "kernelspec": {
   "display_name": "Python 3 (ipykernel)",
   "language": "python",
   "name": "python3"
  },
  "language_info": {
   "codemirror_mode": {
    "name": "ipython",
    "version": 3
   },
   "file_extension": ".py",
   "mimetype": "text/x-python",
   "name": "python",
   "nbconvert_exporter": "python",
   "pygments_lexer": "ipython3",
   "version": "3.9.12"
  }
 },
 "nbformat": 4,
 "nbformat_minor": 5
}
