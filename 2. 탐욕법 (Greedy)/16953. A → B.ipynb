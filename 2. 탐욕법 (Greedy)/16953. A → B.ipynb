{
 "cells": [
  {
   "cell_type": "code",
   "execution_count": 8,
   "id": "1501e742",
   "metadata": {},
   "outputs": [
    {
     "name": "stdout",
     "output_type": "stream",
     "text": [
      "100 40021\n",
      "5\n"
     ]
    }
   ],
   "source": [
    "a, b = map(int, input().split())\n",
    "\n",
    "cnt = 0\n",
    "while True:\n",
    "    if b == a:\n",
    "        print(cnt + 1)\n",
    "        break\n",
    "    elif b < a or (b%10 != 1 and b%10 != 2 and b%2 != 0):\n",
    "        print(-1)\n",
    "        break\n",
    "    elif b%10 == 1:\n",
    "        b //= 10\n",
    "    elif b%10 == 2 or b%2 == 0:\n",
    "        b /= 2\n",
    "    cnt += 1"
   ]
  }
 ],
 "metadata": {
  "kernelspec": {
   "display_name": "Python 3 (ipykernel)",
   "language": "python",
   "name": "python3"
  },
  "language_info": {
   "codemirror_mode": {
    "name": "ipython",
    "version": 3
   },
   "file_extension": ".py",
   "mimetype": "text/x-python",
   "name": "python",
   "nbconvert_exporter": "python",
   "pygments_lexer": "ipython3",
   "version": "3.9.12"
  }
 },
 "nbformat": 4,
 "nbformat_minor": 5
}
