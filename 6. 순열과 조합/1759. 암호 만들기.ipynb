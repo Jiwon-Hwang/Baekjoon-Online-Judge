{
 "cells": [
  {
   "cell_type": "code",
   "execution_count": 3,
   "metadata": {},
   "outputs": [
    {
     "name": "stdout",
     "output_type": "stream",
     "text": [
      "4 6\n",
      "a t c i s w\n",
      "acis\n",
      "acit\n",
      "aciw\n",
      "acst\n",
      "acsw\n",
      "actw\n",
      "aist\n",
      "aisw\n",
      "aitw\n",
      "astw\n",
      "cist\n",
      "cisw\n",
      "citw\n",
      "istw\n"
     ]
    }
   ],
   "source": [
    "from itertools import combinations\n",
    "L, _ = map(int, input().split())\n",
    "str_list = input().split()\n",
    "result_list = []\n",
    "\n",
    "def isPossible(comb):\n",
    "    if len(set(comb) & set(('a', 'e', 'i', 'o', 'u')))!=0 and len(set(comb) - set(('a', 'e', 'i', 'o', 'u')))>=2:\n",
    "           return True\n",
    "    return False\n",
    "\n",
    "for comb in combinations(str_list, L):\n",
    "    if isPossible(comb):\n",
    "        result_list.append(''.join(sorted(comb)))\n",
    "\n",
    "for item in sorted(result_list):\n",
    "    print(item)"
   ]
  }
 ],
 "metadata": {
  "kernelspec": {
   "display_name": "Python 3 (ipykernel)",
   "language": "python",
   "name": "python3"
  },
  "language_info": {
   "codemirror_mode": {
    "name": "ipython",
    "version": 3
   },
   "file_extension": ".py",
   "mimetype": "text/x-python",
   "name": "python",
   "nbconvert_exporter": "python",
   "pygments_lexer": "ipython3",
   "version": "3.9.12"
  }
 },
 "nbformat": 4,
 "nbformat_minor": 2
}
