{
 "cells": [
  {
   "cell_type": "code",
   "execution_count": 1,
   "id": "5f6e9a97",
   "metadata": {},
   "outputs": [
    {
     "name": "stdout",
     "output_type": "stream",
     "text": [
      "3\n",
      "0 1 0\n",
      "0 0 1\n",
      "1 0 0\n",
      "1 1 1 \n",
      "1 1 1 \n",
      "1 1 1 \n"
     ]
    }
   ],
   "source": [
    "# 정답 (백준에서는 numpy 사용 불가)\n",
    "n = int(input())\n",
    "INF = int(1e9)\n",
    "graph = [list(map(int, input().split())) for _ in range(n)]\n",
    "\n",
    "for i in range(n):\n",
    "    for j in range(n):\n",
    "        if graph[i][j] == 0: graph[i][j] = INF\n",
    "\n",
    "for k in range(n):\n",
    "    for i in range(n):\n",
    "        for j in range(n):\n",
    "            graph[i][j] = min(graph[i][j], graph[i][k] + graph[k][j])\n",
    "\n",
    "for i in range(n):\n",
    "    for j in range(n):\n",
    "        if graph[i][j] in (0, INF):\n",
    "            print(0, end=' ')\n",
    "        else:\n",
    "            print(1, end=' ')\n",
    "    print()"
   ]
  },
  {
   "cell_type": "code",
   "execution_count": null,
   "id": "2af23a51",
   "metadata": {},
   "outputs": [],
   "source": [
    "# 정답 (백준에서는 numpy 사용 불가)\n",
    "import sys\n",
    "input = sys.stdin.readline\n",
    "\n",
    "n = int(input())\n",
    "INF = int(1e9)\n",
    "graph = [list(map(int, input().split())) for _ in range(n)]\n",
    "for i in range(n):\n",
    "    for j in range(n):\n",
    "        if graph[i][j] == 0: graph[i][j] = INF\n",
    "\n",
    "for k in range(n):\n",
    "    for i in range(n):\n",
    "        for j in range(n):\n",
    "            graph[i][j] = min(graph[i][j], graph[i][k] + graph[k][j])\n",
    "\n",
    "for i in range(n):\n",
    "    for j in range(n):\n",
    "        if graph[i][j] in (0, INF):\n",
    "            print(0, end=' ')\n",
    "        else:\n",
    "            print(1, end=' ')\n",
    "    print()"
   ]
  },
  {
   "cell_type": "code",
   "execution_count": null,
   "id": "7c9b8531",
   "metadata": {},
   "outputs": [],
   "source": [
    "print(0 in (0, INF))\n",
    "print(1 in (0, INF))\n",
    "print(INF in (0, INF))"
   ]
  }
 ],
 "metadata": {
  "kernelspec": {
   "display_name": "Python 3 (ipykernel)",
   "language": "python",
   "name": "python3"
  },
  "language_info": {
   "codemirror_mode": {
    "name": "ipython",
    "version": 3
   },
   "file_extension": ".py",
   "mimetype": "text/x-python",
   "name": "python",
   "nbconvert_exporter": "python",
   "pygments_lexer": "ipython3",
   "version": "3.9.12"
  }
 },
 "nbformat": 4,
 "nbformat_minor": 5
}
