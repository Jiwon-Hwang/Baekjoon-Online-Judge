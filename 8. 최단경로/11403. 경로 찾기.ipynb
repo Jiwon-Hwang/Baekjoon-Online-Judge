{
 "cells": [
  {
   "cell_type": "code",
   "execution_count": 1,
   "id": "5f6e9a97",
   "metadata": {},
   "outputs": [
    {
     "name": "stdout",
     "output_type": "stream",
     "text": [
      "3\n",
      "0 1 0\n",
      "0 0 1\n",
      "1 0 0\n",
      "1 1 1 \n",
      "1 1 1 \n",
      "1 1 1 \n"
     ]
    }
   ],
   "source": [
    "# sol1) graph[i][i]도 못간다고 생각하고 무한으로 초기화 & 플로이드워셜로 최단거리\n",
    "import sys\n",
    "input = sys.stdin.readline\n",
    "\n",
    "n = int(input())\n",
    "INF = int(1e9)\n",
    "graph = [list(map(int, input().split())) for _ in range(n)]\n",
    "\n",
    "for i in range(n):\n",
    "    for j in range(n):\n",
    "        if graph[i][j] == 0: graph[i][j] = INF # 무한으로 초기화\n",
    "\n",
    "for k in range(n):\n",
    "    for i in range(n):\n",
    "        for j in range(n):\n",
    "            graph[i][j] = min(graph[i][j], graph[i][k] + graph[k][j]) # 최단거리 get\n",
    "\n",
    "for i in range(n):\n",
    "    for j in range(n):\n",
    "        if graph[i][j] in (0, INF):\n",
    "            print(0, end=' ')\n",
    "        else:\n",
    "            print(1, end=' ')\n",
    "    print()"
   ]
  },
  {
   "cell_type": "code",
   "execution_count": 2,
   "id": "2af23a51",
   "metadata": {},
   "outputs": [
    {
     "name": "stdout",
     "output_type": "stream",
     "text": [
      "3\n",
      "0 1 0\n",
      "0 0 1\n",
      "1 0 0\n",
      "1 1 1 \n",
      "1 1 1 \n",
      "1 1 1 \n"
     ]
    }
   ],
   "source": [
    "# sol2) k를 거쳐서 갈 수 있으면 i->j는 일단 갈 수 있는 길이라고 1 표시 (플로이드 응용)\n",
    "import sys\n",
    "input = sys.stdin.readline\n",
    "\n",
    "n = int(input())\n",
    "INF = int(1e9)\n",
    "graph = [list(map(int, input().split())) for _ in range(n)]\n",
    "\n",
    "for k in range(n):\n",
    "    for i in range(n):\n",
    "        for j in range(n):\n",
    "            if graph[i][k] and graph[k][j]: graph[i][j]=1 # 거쳐서 갈수있으면 1\n",
    "\n",
    "for i in range(n):\n",
    "    for j in range(n):\n",
    "        print(graph[i][j], end=' ')\n",
    "    print()"
   ]
  },
  {
   "cell_type": "code",
   "execution_count": 5,
   "id": "25a225a2",
   "metadata": {},
   "outputs": [
    {
     "name": "stdout",
     "output_type": "stream",
     "text": [
      "3\n",
      "0 1 0\n",
      "0 0 1\n",
      "1 0 0\n",
      "1 1 1\n",
      "1 1 1\n",
      "1 1 1\n"
     ]
    }
   ],
   "source": [
    "# sol2) k를 거쳐서 갈 수 있으면 i->j는 일단 갈 수 있는 길이라고 1 표시 (플로이드 응용)\n",
    "#import sys\n",
    "#input = sys.stdin.readline\n",
    "\n",
    "n = int(input())\n",
    "INF = int(1e9)\n",
    "graph = [list(map(int, input().split())) for _ in range(n)]\n",
    "\n",
    "for k in range(n):\n",
    "    for i in range(n):\n",
    "        for j in range(n):\n",
    "            if graph[i][k] and graph[k][j]: graph[i][j]=1 # 거쳐서 갈수있으면 1\n",
    "\n",
    "# Asterisk(*)를 이용한 출력(Unpaking)\n",
    "for row in graph:\n",
    "    print(*row) "
   ]
  },
  {
   "cell_type": "code",
   "execution_count": 3,
   "id": "206275a1",
   "metadata": {
    "scrolled": true
   },
   "outputs": [
    {
     "name": "stdout",
     "output_type": "stream",
     "text": [
      "[[1, 1, 1], [1, 1, 1], [1, 1, 1]]\n"
     ]
    }
   ],
   "source": [
    "print(graph) # 이렇게 제출하면 오답"
   ]
  },
  {
   "cell_type": "code",
   "execution_count": 4,
   "id": "7c9b8531",
   "metadata": {},
   "outputs": [
    {
     "name": "stdout",
     "output_type": "stream",
     "text": [
      "True\n",
      "False\n",
      "True\n"
     ]
    }
   ],
   "source": [
    "print(0 in (0, INF))\n",
    "print(1 in (0, INF))\n",
    "print(INF in (0, INF))"
   ]
  }
 ],
 "metadata": {
  "kernelspec": {
   "display_name": "Python 3 (ipykernel)",
   "language": "python",
   "name": "python3"
  },
  "language_info": {
   "codemirror_mode": {
    "name": "ipython",
    "version": 3
   },
   "file_extension": ".py",
   "mimetype": "text/x-python",
   "name": "python",
   "nbconvert_exporter": "python",
   "pygments_lexer": "ipython3",
   "version": "3.9.12"
  }
 },
 "nbformat": 4,
 "nbformat_minor": 5
}
