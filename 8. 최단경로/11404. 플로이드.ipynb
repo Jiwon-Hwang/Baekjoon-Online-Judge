{
 "cells": [
  {
   "cell_type": "code",
   "execution_count": 9,
   "id": "540e84a9",
   "metadata": {},
   "outputs": [
    {
     "name": "stdout",
     "output_type": "stream",
     "text": [
      "5\n",
      "14\n",
      "1 2 2\n",
      "1 3 3\n",
      "1 4 1\n",
      "1 5 10\n",
      "2 4 2\n",
      "3 4 1\n",
      "3 5 1\n",
      "4 5 3\n",
      "3 5 10\n",
      "3 1 8\n",
      "1 4 2\n",
      "5 1 7\n",
      "3 4 2\n",
      "5 2 4\n",
      "0 2 3 1 4 \n",
      "12 0 15 2 5 \n",
      "8 5 0 1 1 \n",
      "10 7 13 0 3 \n",
      "7 4 10 6 0 \n"
     ]
    }
   ],
   "source": [
    "import sys\n",
    "input = sys.stdin.readline\n",
    "INF = int(1e9)\n",
    "\n",
    "n = int(input())\n",
    "m = int(input())\n",
    "graph = [[INF]*(n+1) for _ in range(n+1)]\n",
    "\n",
    "for i in range(1, n+1):\n",
    "    graph[i][i] = 0\n",
    "    \n",
    "for _ in range(m):\n",
    "    a, b, c = map(int, input().split())\n",
    "    graph[a][b] = min(c, graph[a][b]) # 연결 노선 1개 이상일 수도!!!\n",
    "\n",
    "for k in range(1, n+1):\n",
    "    for i in range(1, n+1):\n",
    "        for j in range(1, n+1):\n",
    "            graph[i][j] = min(graph[i][j], graph[i][k]+graph[k][j])\n",
    "\n",
    "for i in range(1, n+1):\n",
    "    for j in range(1, n+1):\n",
    "        if graph[i][j] == INF:\n",
    "            print(0, end=' ')\n",
    "        else:\n",
    "            print(graph[i][j], end=' ')\n",
    "    print()"
   ]
  }
 ],
 "metadata": {
  "kernelspec": {
   "display_name": "Python 3",
   "language": "python",
   "name": "python3"
  },
  "language_info": {
   "codemirror_mode": {
    "name": "ipython",
    "version": 3
   },
   "file_extension": ".py",
   "mimetype": "text/x-python",
   "name": "python",
   "nbconvert_exporter": "python",
   "pygments_lexer": "ipython3",
   "version": "3.8.8"
  }
 },
 "nbformat": 4,
 "nbformat_minor": 5
}
