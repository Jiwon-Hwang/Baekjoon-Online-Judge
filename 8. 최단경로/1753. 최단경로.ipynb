{
 "cells": [
  {
   "cell_type": "code",
   "execution_count": 4,
   "id": "605fa35f",
   "metadata": {},
   "outputs": [
    {
     "name": "stdout",
     "output_type": "stream",
     "text": [
      "5 6\n",
      "1\n",
      "5 1 1\n",
      "1 2 2\n",
      "1 3 3\n",
      "2 3 4\n",
      "2 4 5\n",
      "3 4 6\n",
      "{1: [(2, 2), (3, 3)], 2: [(3, 4), (4, 5)], 3: [(4, 6)], 4: [], 5: [(1, 1)]}\n",
      "0\n",
      "2\n",
      "3\n",
      "7\n",
      "INF\n"
     ]
    }
   ],
   "source": [
    "# 다익스트라 => sigle source, 양수 간선 존재\n",
    "import heapq\n",
    "import sys\n",
    "input = sys.stdin.readline # 안해주면 시간초과\n",
    "INF = int(1e9) \n",
    "\n",
    "v, e = map(int, input().split())\n",
    "start = int(input())\n",
    "graph = {i : [] for i in range(1, v+1)}\n",
    "dist = [INF] * (v+1) # 최단거리 테이블\n",
    "\n",
    "for _ in range(e):\n",
    "    src, dst, w = map(int, input().split())\n",
    "    graph[src].append((dst, w))\n",
    "    \n",
    "#print(graph)\n",
    "\n",
    "def dijkstra(start):\n",
    "    queue = []\n",
    "    heapq.heappush(queue, (0, start)) # (0, 1) : (최단거리, 노드번호)\n",
    "    dist[start] = 0\n",
    "    \n",
    "    while queue:\n",
    "        cost, now = heapq.heappop(queue) # (0, 1)\n",
    "        \n",
    "        # 방문하지 않아도 되는 노드 예외처리\n",
    "        if cost > dist[now]:\n",
    "            continue\n",
    "        \n",
    "        # 방문하지 않은 노드의 인접 노드들 탐색 (최단거리 갱신)\n",
    "        for child in graph[now]:\n",
    "            new_cost = cost + child[1] # child : (2, 2)\n",
    "            if new_cost < dist[child[0]]:\n",
    "                dist[child[0]] = new_cost\n",
    "                heapq.heappush(queue, (new_cost, child[0]))\n",
    "                \n",
    "dijkstra(start)\n",
    "\n",
    "for i in range(1, v+1):\n",
    "    if dist[i] == INF:\n",
    "        print(\"INF\")\n",
    "    else: \n",
    "        print(dist[i])"
   ]
  },
  {
   "cell_type": "markdown",
   "id": "db8105ce",
   "metadata": {},
   "source": [
    "<hr>"
   ]
  },
  {
   "cell_type": "code",
   "execution_count": null,
   "id": "edb57544",
   "metadata": {},
   "outputs": [],
   "source": [
    "# 방문한적 있는지 체크 (방문할 필요 없다면 pass)\n",
    "# 예외처리 안하고 모든 노드의 인접노드 탐색해도 상관은 x\n",
    "# 우선순위큐에서 또다시 pop한 노드 == 이전에 pop해서 방문한 노드\n",
    "# pop한 노드의 cost가 최단거리테이블값(최단거리)보다 크다면 pass\n",
    "# 아래에서 pop한 노드를 거쳐서 다른 인접 노드값까지 더할 필요가\n",
    "# 없으므로!\n",
    "\n",
    "if cost > dist[now]:\n",
    "    continue"
   ]
  }
 ],
 "metadata": {
  "kernelspec": {
   "display_name": "Python 3",
   "language": "python",
   "name": "python3"
  },
  "language_info": {
   "codemirror_mode": {
    "name": "ipython",
    "version": 3
   },
   "file_extension": ".py",
   "mimetype": "text/x-python",
   "name": "python",
   "nbconvert_exporter": "python",
   "pygments_lexer": "ipython3",
   "version": "3.8.8"
  }
 },
 "nbformat": 4,
 "nbformat_minor": 5
}
