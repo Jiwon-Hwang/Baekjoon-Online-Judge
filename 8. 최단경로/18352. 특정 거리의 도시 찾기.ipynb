{
 "cells": [
  {
   "cell_type": "code",
   "execution_count": 5,
   "id": "2caaa605",
   "metadata": {},
   "outputs": [
    {
     "name": "stdout",
     "output_type": "stream",
     "text": [
      "4 4 2 1\n",
      "1 2\n",
      "1 3\n",
      "2 3\n",
      "2 4\n",
      "4\n"
     ]
    }
   ],
   "source": [
    "# bfs & 인접리스트\n",
    "#특정 두 노드 간 연결관계가 아닌, 한 노드와 연결된 모든 노드들이 필요\n",
    "\n",
    "from collections import deque\n",
    "import sys\n",
    "input = sys.stdin.readline # 안해주면 시간초과\n",
    "\n",
    "# 도시개수(n), 도로개수(m), 거리정보(k), 출발도시번호(x: single source)\n",
    "n, m, k, x = map(int, input().split()) \n",
    "graph = {i:[] for i in range(1, n+1)}\n",
    "dist = [-1] * (n+1) # 최단거리 저장\n",
    "\n",
    "# 그래프 입력받기 (인접리스트 : dict)\n",
    "for _ in range(m):\n",
    "    src, dst = map(int, input().split())\n",
    "    graph[src].append(dst) \n",
    "\n",
    "#print(graph)\n",
    "\n",
    "# bfs\n",
    "def bfs(graph, src):\n",
    "    result = []\n",
    "    queue = deque([src])\n",
    "    dist[src] = 0\n",
    "   \n",
    "    # 일단 전체 다 방문 (single->all)\n",
    "    while queue:\n",
    "        n = queue.popleft()\n",
    "        \n",
    "        for child in graph[n]:\n",
    "            if dist[child] == -1:\n",
    "                dist[child] = dist[n] + 1\n",
    "                queue.append(child)\n",
    "                if dist[child] == k:\n",
    "                    result.append(child)\n",
    "    \n",
    "    # result return\n",
    "    if len(result) == 0:\n",
    "        return [-1]\n",
    "    \n",
    "    return sorted(result)\n",
    "\n",
    "\n",
    "for i in bfs(graph, x):\n",
    "    print(i)"
   ]
  },
  {
   "cell_type": "markdown",
   "id": "164981fe",
   "metadata": {},
   "source": [
    "<hr>"
   ]
  },
  {
   "cell_type": "code",
   "execution_count": 1,
   "id": "62f0bfc2",
   "metadata": {},
   "outputs": [
    {
     "name": "stdout",
     "output_type": "stream",
     "text": [
      "{-1}\n"
     ]
    }
   ],
   "source": [
    "test = set([-1])\n",
    "print(test)"
   ]
  },
  {
   "cell_type": "markdown",
   "id": "23f470d9",
   "metadata": {},
   "source": [
    "## 큐, 힙\n",
    "* collections - deque\n",
    "* heapq\n",
    "* queue - PriorityQueue"
   ]
  },
  {
   "cell_type": "code",
   "execution_count": 2,
   "id": "18b5d207",
   "metadata": {},
   "outputs": [
    {
     "name": "stdout",
     "output_type": "stream",
     "text": [
      "[1, 4, 8, 7, 5] \n",
      "\n",
      "pop :  1\n",
      "heap :  [4, 5, 8, 7]\n",
      "pop :  4\n",
      "heap :  [5, 7, 8]\n",
      "pop :  5\n",
      "heap :  [7, 8]\n",
      "pop :  7\n",
      "heap :  [8]\n",
      "pop :  8\n",
      "heap :  []\n"
     ]
    }
   ],
   "source": [
    "# cf. 힙 : \"이진트리\" 형태로 최소힙, 최대힙!\n",
    "import heapq\n",
    "\n",
    "test = []\n",
    "heapq.heappush(test, 4)\n",
    "heapq.heappush(test, 1)\n",
    "heapq.heappush(test, 8)\n",
    "heapq.heappush(test, 7)\n",
    "heapq.heappush(test, 5)\n",
    "print(test, '\\n')\n",
    "\n",
    "# 힙(heapq)으로 우선순위큐를 구현할 수 있는 이유! \n",
    "# 이진트리 형태로 저장되지만, heappop 시 힙 재구성되며 항상 최소값 출력!\n",
    "while test:\n",
    "    print(\"pop : \", heapq.heappop(test))\n",
    "    print(\"heap : \", test)"
   ]
  },
  {
   "cell_type": "code",
   "execution_count": null,
   "id": "02698e7a",
   "metadata": {},
   "outputs": [],
   "source": [
    "# PriorityQueue로 우선순위큐 구현\n",
    "from queue import PriorityQueue\n",
    "\n",
    "test = PriorityQueue()\n",
    "test.put(4)\n",
    "test.put(1)\n",
    "test.put(8)\n",
    "test.put(7)\n",
    "test.put(5)\n",
    "print(test, '\\n') # 객체이름으로 출력됨\n",
    "print(test.queue, '\\n') # 이런식으로 우선순위큐 내부 출력은 가능...\n",
    "\n",
    "# 우선순위큐 모듈(PriorityQueue)로 우선순위큐를 구현\n",
    "while test:\n",
    "    print(\"pop : \", test.get())\n",
    "    print(\"heap : \", test.queue)"
   ]
  }
 ],
 "metadata": {
  "kernelspec": {
   "display_name": "Python 3",
   "language": "python",
   "name": "python3"
  },
  "language_info": {
   "codemirror_mode": {
    "name": "ipython",
    "version": 3
   },
   "file_extension": ".py",
   "mimetype": "text/x-python",
   "name": "python",
   "nbconvert_exporter": "python",
   "pygments_lexer": "ipython3",
   "version": "3.8.8"
  }
 },
 "nbformat": 4,
 "nbformat_minor": 5
}
