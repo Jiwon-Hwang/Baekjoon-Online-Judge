{
 "cells": [
  {
   "cell_type": "code",
   "execution_count": null,
   "id": "5e6bdb81",
   "metadata": {},
   "outputs": [],
   "source": [
    "# bfs & 인접리스트(특정 두 노드 간 연결관계가 아닌, 한 노드와 연결된~)\n",
    "\n",
    "from collections import deque\n",
    "import heapq\n",
    "\n",
    "# 도시개수, 도로개수, 거리정보, 출발도시번호(single source)\n",
    "n, m, k, x = map(int, input().split()) \n",
    "graph = {i:[] for i in range(1, n+1)}\n",
    "\n",
    "# 그래프 입력받기 (인접리스트 : dict)\n",
    "for _ in range(m):\n",
    "    src, dst = map(int, input().split())\n",
    "    graph[src].append(dst)\n",
    "    \n",
    "# bfs\n",
    "def bfs(graph, src):\n",
    "    visited = heapq([-1])\n",
    "    queue = deque([src])\n",
    "    \n",
    "    while queue:\n",
    "        n = queue.popleft()\n",
    "        \n",
    "        \n",
    "    return visited # set\n",
    "\n",
    "result = bfs(graph, x) # == sorted(list(bfs(graph, x)))\n",
    "while result:\n",
    "    print(heapq.heappop(result))"
   ]
  },
  {
   "cell_type": "markdown",
   "id": "8f082997",
   "metadata": {},
   "source": [
    "<hr>"
   ]
  },
  {
   "cell_type": "code",
   "execution_count": 1,
   "id": "976a616b",
   "metadata": {},
   "outputs": [
    {
     "name": "stdout",
     "output_type": "stream",
     "text": [
      "{-1}\n"
     ]
    }
   ],
   "source": [
    "test = set([-1])\n",
    "print(test)"
   ]
  },
  {
   "cell_type": "markdown",
   "id": "ec4c2f90",
   "metadata": {},
   "source": [
    "## 큐, 힙\n",
    "* collections - deque\n",
    "* heapq\n",
    "* queue - PriorityQueue"
   ]
  },
  {
   "cell_type": "code",
   "execution_count": 2,
   "id": "16311471",
   "metadata": {},
   "outputs": [
    {
     "name": "stdout",
     "output_type": "stream",
     "text": [
      "[1, 4, 8, 7, 5] \n",
      "\n",
      "pop :  1\n",
      "heap :  [4, 5, 8, 7]\n",
      "pop :  4\n",
      "heap :  [5, 7, 8]\n",
      "pop :  5\n",
      "heap :  [7, 8]\n",
      "pop :  7\n",
      "heap :  [8]\n",
      "pop :  8\n",
      "heap :  []\n"
     ]
    }
   ],
   "source": [
    "# cf. 힙 : \"이진트리\" 형태로 최소힙, 최대힙!\n",
    "import heapq\n",
    "\n",
    "test = []\n",
    "heapq.heappush(test, 4)\n",
    "heapq.heappush(test, 1)\n",
    "heapq.heappush(test, 8)\n",
    "heapq.heappush(test, 7)\n",
    "heapq.heappush(test, 5)\n",
    "print(test, '\\n')\n",
    "\n",
    "# 힙(heapq)으로 우선순위큐를 구현할 수 있는 이유! \n",
    "# 이진트리 형태로 저장되지만, heappop 시 힙 재구성되며 항상 최소값 출력!\n",
    "while test:\n",
    "    print(\"pop : \", heapq.heappop(test))\n",
    "    print(\"heap : \", test)"
   ]
  },
  {
   "cell_type": "code",
   "execution_count": null,
   "id": "fb30e966",
   "metadata": {},
   "outputs": [
    {
     "name": "stdout",
     "output_type": "stream",
     "text": [
      "<queue.PriorityQueue object at 0x00000251DC965C40> \n",
      "\n",
      "[1, 4, 8, 7, 5] \n",
      "\n",
      "pop :  1\n",
      "heap :  [4, 5, 8, 7]\n",
      "pop :  4\n",
      "heap :  [5, 7, 8]\n",
      "pop :  5\n",
      "heap :  [7, 8]\n",
      "pop :  7\n",
      "heap :  [8]\n",
      "pop :  8\n",
      "heap :  []\n"
     ]
    }
   ],
   "source": [
    "# PriorityQueue로 우선순위큐 구현\n",
    "from queue import PriorityQueue\n",
    "\n",
    "test = PriorityQueue()\n",
    "test.put(4)\n",
    "test.put(1)\n",
    "test.put(8)\n",
    "test.put(7)\n",
    "test.put(5)\n",
    "print(test, '\\n') # 객체이름으로 출력됨\n",
    "print(test.queue, '\\n') # 이런식으로 우선순위큐 내부 출력은 가능...\n",
    "\n",
    "# 우선순위큐 모듈(PriorityQueue)로 우선순위큐를 구현\n",
    "while test:\n",
    "    print(\"pop : \", test.get())\n",
    "    print(\"heap : \", test.queue)"
   ]
  }
 ],
 "metadata": {
  "kernelspec": {
   "display_name": "Python 3",
   "language": "python",
   "name": "python3"
  },
  "language_info": {
   "codemirror_mode": {
    "name": "ipython",
    "version": 3
   },
   "file_extension": ".py",
   "mimetype": "text/x-python",
   "name": "python",
   "nbconvert_exporter": "python",
   "pygments_lexer": "ipython3",
   "version": "3.8.8"
  }
 },
 "nbformat": 4,
 "nbformat_minor": 5
}
